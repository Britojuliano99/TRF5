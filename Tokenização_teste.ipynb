{
 "cells": [
  {
   "cell_type": "code",
   "execution_count": 1,
   "metadata": {},
   "outputs": [],
   "source": [
    "from dataframe_creation import *\n",
    "import glob"
   ]
  },
  {
   "cell_type": "code",
   "execution_count": 2,
   "metadata": {},
   "outputs": [],
   "source": [
    "PATH='/home/juliano/TRF5/TRF5/So_peticoes'\n"
   ]
  },
  {
   "attachments": {},
   "cell_type": "markdown",
   "metadata": {},
   "source": [
    "Função para criar o dataFrame apartir da caminho onde está as petições separas onde cada subdiretorio está um tipo de classe processual."
   ]
  },
  {
   "cell_type": "code",
   "execution_count": 3,
   "metadata": {},
   "outputs": [],
   "source": [
    "df_raw=criar_df(PATH)"
   ]
  },
  {
   "cell_type": "code",
   "execution_count": 4,
   "metadata": {},
   "outputs": [],
   "source": [
    "# Usa TFid para vetorizar o texto em n grams de 1 a 3 componentes para os 1000 casos mais comuns e retorna uma matrix expandida com a frequencia relativa de cada termo.\n",
    "\n",
    "from sklearn.feature_extraction.text import TfidfVectorizer\n",
    "\n",
    "n_grams_number=1000\n",
    "# instanciar o TfidfVectorizer\n",
    "tfidf_vectorizer = TfidfVectorizer(max_features=n_grams_number,ngram_range=(1,3))\n",
    "\n",
    "# aplica a função aos dados de texto do dataframe\n",
    "tfidf_matrix = tfidf_vectorizer.fit_transform(df_raw[\"conteudo_peticao\"])\n",
    "\n",
    "# obtém o vocabulário das palavras\n",
    "vocab = tfidf_vectorizer.get_feature_names_out()\n",
    "\n",
    "#cria o dataFrame e as colunas referentes aos Ngram e a classe correspondente\n",
    "\n",
    "df_tokens = pd.DataFrame.sparse.from_spmatrix(tfidf_matrix)\n",
    "df_tokens.columns=vocab\n",
    "df_tokens[\"classe\"]=df_raw[\"classificacao\"]\n"
   ]
  },
  {
   "cell_type": "code",
   "execution_count": 5,
   "metadata": {},
   "outputs": [],
   "source": [
    "# Transforma as classes de texto para valores numericos discretos\n",
    "classes_unicas = df_tokens['classe'].unique()\n",
    "\n",
    "# Criar um dicionário que mapeia cada classe única para um número\n",
    "mapeamento = {classe: i for i, classe in enumerate(classes_unicas)}\n",
    "\n",
    "# Substituir os valores da coluna pela sua representação numérica\n",
    "df_tokens['classe_numerica'] = df_tokens['classe'].replace(mapeamento)\n",
    "\n",
    "\n"
   ]
  },
  {
   "cell_type": "code",
   "execution_count": 7,
   "metadata": {},
   "outputs": [
    {
     "data": {
      "text/plain": [
       "{'48 - APOSENTADORIA ESPECIAL': 0,\n",
       " '65 - BENEFICIO ASSISTENCIAL - LOAS': 1,\n",
       " '57 - SALARIO MATERNIDADE RURAL': 2}"
      ]
     },
     "execution_count": 7,
     "metadata": {},
     "output_type": "execute_result"
    }
   ],
   "source": [
    "mapeamento"
   ]
  },
  {
   "cell_type": "code",
   "execution_count": 6,
   "metadata": {},
   "outputs": [
    {
     "name": "stderr",
     "output_type": "stream",
     "text": [
      "/tmp/ipykernel_41071/2659765013.py:3: FutureWarning: The behavior of .astype from SparseDtype to a non-sparse dtype is deprecated. In a future version, this will return a non-sparse array with the requested dtype. To retain the old behavior, use `obj.astype(SparseDtype(dtype))`\n",
      "  df_tokens.to_csv(\"peticoes_tokenizadas.csv\")\n"
     ]
    }
   ],
   "source": [
    "# Exporta essa matrix para csv\n",
    "\n",
    "df_tokens.to_csv(\"peticoes_tokenizadas.csv\")"
   ]
  },
  {
   "cell_type": "code",
   "execution_count": null,
   "metadata": {},
   "outputs": [],
   "source": []
  }
 ],
 "metadata": {
  "kernelspec": {
   "display_name": "Python 3",
   "language": "python",
   "name": "python3"
  },
  "language_info": {
   "codemirror_mode": {
    "name": "ipython",
    "version": 3
   },
   "file_extension": ".py",
   "mimetype": "text/x-python",
   "name": "python",
   "nbconvert_exporter": "python",
   "pygments_lexer": "ipython3",
   "version": "3.10.6"
  },
  "orig_nbformat": 4
 },
 "nbformat": 4,
 "nbformat_minor": 2
}
