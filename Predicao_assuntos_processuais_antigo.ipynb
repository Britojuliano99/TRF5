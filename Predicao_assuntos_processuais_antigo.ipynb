{
  "nbformat": 4,
  "nbformat_minor": 0,
  "metadata": {
    "colab": {
      "provenance": [],
      "collapsed_sections": [
        "tVd26u0uL9lO",
        "_uORsMJSxOLp",
        "3-5w864Lr_MM"
      ]
    },
    "kernelspec": {
      "name": "python3",
      "display_name": "Python 3"
    },
    "language_info": {
      "name": "python"
    },
    "gpuClass": "standard"
  },
  "cells": [
    {
      "cell_type": "markdown",
      "source": [
        "***\n",
        "# **Classificação de Assuntos Processuais** <img src=\"https://cdn-icons-png.flaticon.com/512/3292/3292568.png\" width=\"3%\">\n",
        "***"
      ],
      "metadata": {
        "id": "TvZh2-wbZYST"
      }
    },
    {
      "cell_type": "markdown",
      "source": [
        "Neste projeto, vamos classificar o assunto processual de acordo com o texto da sua petição inicial. O grande objetivo por trás disso será evitar que o advogado possa errar o assunto ao qual submete esse processo, e que seja gasto tempo dos servidores lendo a petição inicial e corrigindo seu devido assunto para que ele tenha seu trâmite ocorra de forma correta. \n",
        "\n",
        "<br>\n",
        "<p align=center>\n",
        "<img src=\"https://cdn-icons-png.flaticon.com/512/2912/2912872.png\" width=\"30%\"></p>\n",
        "<br>\n",
        "\n",
        "Esse projeto se ganha importância quando vemos a quantidade de processos abertos por ano. A Justiça abriu <a href=\"https://veja.abril.com.br/coluna/radar/judiciario-teve-277-milhoes-de-casos-abertos-no-ultimo-ano/\">27,7 milhões</a> de novos casos em 2021, alta de 10,4% em relação ao observado em 2020. O dado faz parte do relatório “Justiça em Números”. Considerando somente as ações ajuizadas pela primeira vez em 2021, o número vai para 19,1 milhões de novos processos.\n",
        "\n",
        "Esse projeto não vai acabar de vez com a morosidade da justiça, mas faz parte de um pequeno esforço dentro de tantos outros esforços que prometem contribuir cada vez mais por uma justiça melhor. \n"
      ],
      "metadata": {
        "id": "grpSqQ4JdMpB"
      }
    },
    {
      "cell_type": "markdown",
      "source": [
        "***\n",
        "## **Carregamento de dependências** <img src=\"https://cdn-icons-png.flaticon.com/512/4461/4461808.png\" width=\"3%\">\n",
        "***"
      ],
      "metadata": {
        "id": "s1Es-lB3duG5"
      }
    },
    {
      "cell_type": "code",
      "execution_count": null,
      "metadata": {
        "colab": {
          "base_uri": "https://localhost:8080/"
        },
        "id": "BfMEY-kbdra3",
        "outputId": "03b71f1b-6579-4aa8-f6fb-a2b30d8d9bfb"
      },
      "outputs": [
        {
          "output_type": "stream",
          "name": "stdout",
          "text": [
            "Mounted at /content/drive\n"
          ]
        }
      ],
      "source": [
        "from google.colab import drive\n",
        "drive.mount('/content/drive')"
      ]
    },
    {
      "cell_type": "code",
      "source": [
        "!sudo apt install build-essential libpoppler-cpp-dev pkg-config python3-dev -q"
      ],
      "metadata": {
        "colab": {
          "base_uri": "https://localhost:8080/"
        },
        "id": "XxnvOpdHL2H3",
        "outputId": "223336ff-b547-462e-8c21-93dd7eb7b380"
      },
      "execution_count": null,
      "outputs": [
        {
          "output_type": "stream",
          "name": "stdout",
          "text": [
            "Reading package lists...\n",
            "Building dependency tree...\n",
            "Reading state information...\n",
            "pkg-config is already the newest version (0.29.1-0ubuntu4).\n",
            "python3-dev is already the newest version (3.8.2-0ubuntu2).\n",
            "python3-dev set to manually installed.\n",
            "build-essential is already the newest version (12.8ubuntu1.1).\n",
            "The following package was automatically installed and is no longer required:\n",
            "  libnvidia-common-510\n",
            "Use 'sudo apt autoremove' to remove it.\n",
            "The following additional packages will be installed:\n",
            "  libpoppler-cpp0v5\n",
            "The following NEW packages will be installed:\n",
            "  libpoppler-cpp-dev libpoppler-cpp0v5\n",
            "0 upgraded, 2 newly installed, 0 to remove and 21 not upgraded.\n",
            "Need to get 46.0 kB of archives.\n",
            "After this operation, 223 kB of additional disk space will be used.\n",
            "Get:1 http://archive.ubuntu.com/ubuntu focal-updates/main amd64 libpoppler-cpp0v5 amd64 0.86.1-0ubuntu1.1 [35.6 kB]\n",
            "Get:2 http://archive.ubuntu.com/ubuntu focal-updates/main amd64 libpoppler-cpp-dev amd64 0.86.1-0ubuntu1.1 [10.4 kB]\n",
            "Fetched 46.0 kB in 1s (54.5 kB/s)\n",
            "debconf: unable to initialize frontend: Dialog\n",
            "debconf: (No usable dialog-like program is installed, so the dialog based frontend cannot be used. at /usr/share/perl5/Debconf/FrontEnd/Dialog.pm line 76, <> line 2.)\n",
            "debconf: falling back to frontend: Readline\n",
            "debconf: unable to initialize frontend: Readline\n",
            "debconf: (This frontend requires a controlling tty.)\n",
            "debconf: falling back to frontend: Teletype\n",
            "dpkg-preconfigure: unable to re-open stdin: \n",
            "Selecting previously unselected package libpoppler-cpp0v5:amd64.\n",
            "(Reading database ... 128048 files and directories currently installed.)\n",
            "Preparing to unpack .../libpoppler-cpp0v5_0.86.1-0ubuntu1.1_amd64.deb ...\n",
            "Unpacking libpoppler-cpp0v5:amd64 (0.86.1-0ubuntu1.1) ...\n",
            "Selecting previously unselected package libpoppler-cpp-dev:amd64.\n",
            "Preparing to unpack .../libpoppler-cpp-dev_0.86.1-0ubuntu1.1_amd64.deb ...\n",
            "Unpacking libpoppler-cpp-dev:amd64 (0.86.1-0ubuntu1.1) ...\n",
            "Setting up libpoppler-cpp0v5:amd64 (0.86.1-0ubuntu1.1) ...\n",
            "Setting up libpoppler-cpp-dev:amd64 (0.86.1-0ubuntu1.1) ...\n",
            "Processing triggers for libc-bin (2.31-0ubuntu9.9) ...\n"
          ]
        }
      ]
    },
    {
      "cell_type": "code",
      "source": [
        "!pip install pdftotext -q"
      ],
      "metadata": {
        "id": "zUJq9fNRL7GI",
        "colab": {
          "base_uri": "https://localhost:8080/"
        },
        "outputId": "49c25f53-03a2-4183-9106-49154a749e39"
      },
      "execution_count": null,
      "outputs": [
        {
          "output_type": "stream",
          "name": "stdout",
          "text": [
            "\u001b[?25l     \u001b[90m━━━━━━━━━━━━━━━━━━━━━━━━━━━━━━━━━━━━━━━━\u001b[0m \u001b[32m0.0/113.9 KB\u001b[0m \u001b[31m?\u001b[0m eta \u001b[36m-:--:--\u001b[0m\r\u001b[2K     \u001b[90m━━━━━━━━━━━━━━━━━━━━━━━━━━━━━━━━━━━━━━━\u001b[0m \u001b[32m113.9/113.9 KB\u001b[0m \u001b[31m3.7 MB/s\u001b[0m eta \u001b[36m0:00:00\u001b[0m\n",
            "\u001b[?25h  Preparing metadata (setup.py) ... \u001b[?25l\u001b[?25hdone\n",
            "  Building wheel for pdftotext (setup.py) ... \u001b[?25l\u001b[?25hdone\n"
          ]
        }
      ]
    },
    {
      "cell_type": "code",
      "source": [
        "import glob\n",
        "import matplotlib.pyplot as plt\n",
        "import nltk\n",
        "import numpy as np\n",
        "import pandas as pd\n",
        "import pdftotext\n",
        "import re\n",
        "import seaborn as sns\n",
        "\n",
        "from imblearn.under_sampling import RandomUnderSampler\n",
        "from pandas.core.common import random_state\n",
        "from sklearn.ensemble import ExtraTreesClassifier\n",
        "from sklearn.ensemble import RandomForestClassifier\n",
        "from sklearn.feature_extraction.text import TfidfVectorizer\n",
        "from sklearn.metrics import classification_report, accuracy_score, roc_auc_score, roc_curve\n",
        "from sklearn.metrics import confusion_matrix\n",
        "from sklearn.model_selection import cross_val_score\n",
        "from sklearn.model_selection import KFold, StratifiedKFold\n",
        "from sklearn.model_selection import train_test_split\n",
        "from sklearn.neighbors import KNeighborsClassifier\n",
        "from sklearn.pipeline import Pipeline\n",
        "from sklearn.preprocessing import label_binarize\n",
        "from sklearn.svm import SVC\n",
        "from xgboost import XGBClassifier\n",
        "\n",
        "\n",
        "# filtrar mensagens de warning\n",
        "import warnings\n",
        "warnings.filterwarnings('ignore')\n"
      ],
      "metadata": {
        "id": "qaZNr6TWoQYZ"
      },
      "execution_count": null,
      "outputs": []
    },
    {
      "cell_type": "code",
      "source": [
        "nltk.download('all')\n",
        "\n",
        "stopwords = nltk.corpus.stopwords.words('portuguese')\n",
        "\n",
        "stemmer = nltk.stem.RSLPStemmer()"
      ],
      "metadata": {
        "colab": {
          "base_uri": "https://localhost:8080/"
        },
        "id": "aBKEX6HzMWX9",
        "outputId": "7023bcb3-8e0c-42ba-f4a9-ae6208544223"
      },
      "execution_count": null,
      "outputs": [
        {
          "output_type": "stream",
          "name": "stderr",
          "text": [
            "[nltk_data] Downloading collection 'all'\n",
            "[nltk_data]    | \n",
            "[nltk_data]    | Downloading package abc to /root/nltk_data...\n",
            "[nltk_data]    |   Unzipping corpora/abc.zip.\n",
            "[nltk_data]    | Downloading package alpino to /root/nltk_data...\n",
            "[nltk_data]    |   Unzipping corpora/alpino.zip.\n",
            "[nltk_data]    | Downloading package averaged_perceptron_tagger to\n",
            "[nltk_data]    |     /root/nltk_data...\n",
            "[nltk_data]    |   Unzipping taggers/averaged_perceptron_tagger.zip.\n",
            "[nltk_data]    | Downloading package averaged_perceptron_tagger_ru to\n",
            "[nltk_data]    |     /root/nltk_data...\n",
            "[nltk_data]    |   Unzipping\n",
            "[nltk_data]    |       taggers/averaged_perceptron_tagger_ru.zip.\n",
            "[nltk_data]    | Downloading package basque_grammars to\n",
            "[nltk_data]    |     /root/nltk_data...\n",
            "[nltk_data]    |   Unzipping grammars/basque_grammars.zip.\n",
            "[nltk_data]    | Downloading package bcp47 to /root/nltk_data...\n",
            "[nltk_data]    | Downloading package biocreative_ppi to\n",
            "[nltk_data]    |     /root/nltk_data...\n",
            "[nltk_data]    |   Unzipping corpora/biocreative_ppi.zip.\n",
            "[nltk_data]    | Downloading package bllip_wsj_no_aux to\n",
            "[nltk_data]    |     /root/nltk_data...\n",
            "[nltk_data]    |   Unzipping models/bllip_wsj_no_aux.zip.\n",
            "[nltk_data]    | Downloading package book_grammars to\n",
            "[nltk_data]    |     /root/nltk_data...\n",
            "[nltk_data]    |   Unzipping grammars/book_grammars.zip.\n",
            "[nltk_data]    | Downloading package brown to /root/nltk_data...\n",
            "[nltk_data]    |   Unzipping corpora/brown.zip.\n",
            "[nltk_data]    | Downloading package brown_tei to /root/nltk_data...\n",
            "[nltk_data]    |   Unzipping corpora/brown_tei.zip.\n",
            "[nltk_data]    | Downloading package cess_cat to /root/nltk_data...\n",
            "[nltk_data]    |   Unzipping corpora/cess_cat.zip.\n",
            "[nltk_data]    | Downloading package cess_esp to /root/nltk_data...\n",
            "[nltk_data]    |   Unzipping corpora/cess_esp.zip.\n",
            "[nltk_data]    | Downloading package chat80 to /root/nltk_data...\n",
            "[nltk_data]    |   Unzipping corpora/chat80.zip.\n",
            "[nltk_data]    | Downloading package city_database to\n",
            "[nltk_data]    |     /root/nltk_data...\n",
            "[nltk_data]    |   Unzipping corpora/city_database.zip.\n",
            "[nltk_data]    | Downloading package cmudict to /root/nltk_data...\n",
            "[nltk_data]    |   Unzipping corpora/cmudict.zip.\n",
            "[nltk_data]    | Downloading package comparative_sentences to\n",
            "[nltk_data]    |     /root/nltk_data...\n",
            "[nltk_data]    |   Unzipping corpora/comparative_sentences.zip.\n",
            "[nltk_data]    | Downloading package comtrans to /root/nltk_data...\n",
            "[nltk_data]    | Downloading package conll2000 to /root/nltk_data...\n",
            "[nltk_data]    |   Unzipping corpora/conll2000.zip.\n",
            "[nltk_data]    | Downloading package conll2002 to /root/nltk_data...\n",
            "[nltk_data]    |   Unzipping corpora/conll2002.zip.\n",
            "[nltk_data]    | Downloading package conll2007 to /root/nltk_data...\n",
            "[nltk_data]    | Downloading package crubadan to /root/nltk_data...\n",
            "[nltk_data]    |   Unzipping corpora/crubadan.zip.\n",
            "[nltk_data]    | Downloading package dependency_treebank to\n",
            "[nltk_data]    |     /root/nltk_data...\n",
            "[nltk_data]    |   Unzipping corpora/dependency_treebank.zip.\n",
            "[nltk_data]    | Downloading package dolch to /root/nltk_data...\n",
            "[nltk_data]    |   Unzipping corpora/dolch.zip.\n",
            "[nltk_data]    | Downloading package europarl_raw to\n",
            "[nltk_data]    |     /root/nltk_data...\n",
            "[nltk_data]    |   Unzipping corpora/europarl_raw.zip.\n",
            "[nltk_data]    | Downloading package extended_omw to\n",
            "[nltk_data]    |     /root/nltk_data...\n",
            "[nltk_data]    | Downloading package floresta to /root/nltk_data...\n",
            "[nltk_data]    |   Unzipping corpora/floresta.zip.\n",
            "[nltk_data]    | Downloading package framenet_v15 to\n",
            "[nltk_data]    |     /root/nltk_data...\n",
            "[nltk_data]    |   Unzipping corpora/framenet_v15.zip.\n",
            "[nltk_data]    | Downloading package framenet_v17 to\n",
            "[nltk_data]    |     /root/nltk_data...\n",
            "[nltk_data]    |   Unzipping corpora/framenet_v17.zip.\n",
            "[nltk_data]    | Downloading package gazetteers to /root/nltk_data...\n",
            "[nltk_data]    |   Unzipping corpora/gazetteers.zip.\n",
            "[nltk_data]    | Downloading package genesis to /root/nltk_data...\n",
            "[nltk_data]    |   Unzipping corpora/genesis.zip.\n",
            "[nltk_data]    | Downloading package gutenberg to /root/nltk_data...\n",
            "[nltk_data]    |   Unzipping corpora/gutenberg.zip.\n",
            "[nltk_data]    | Downloading package ieer to /root/nltk_data...\n",
            "[nltk_data]    |   Unzipping corpora/ieer.zip.\n",
            "[nltk_data]    | Downloading package inaugural to /root/nltk_data...\n",
            "[nltk_data]    |   Unzipping corpora/inaugural.zip.\n",
            "[nltk_data]    | Downloading package indian to /root/nltk_data...\n",
            "[nltk_data]    |   Unzipping corpora/indian.zip.\n",
            "[nltk_data]    | Downloading package jeita to /root/nltk_data...\n",
            "[nltk_data]    | Downloading package kimmo to /root/nltk_data...\n",
            "[nltk_data]    |   Unzipping corpora/kimmo.zip.\n",
            "[nltk_data]    | Downloading package knbc to /root/nltk_data...\n",
            "[nltk_data]    | Downloading package large_grammars to\n",
            "[nltk_data]    |     /root/nltk_data...\n",
            "[nltk_data]    |   Unzipping grammars/large_grammars.zip.\n",
            "[nltk_data]    | Downloading package lin_thesaurus to\n",
            "[nltk_data]    |     /root/nltk_data...\n",
            "[nltk_data]    |   Unzipping corpora/lin_thesaurus.zip.\n",
            "[nltk_data]    | Downloading package mac_morpho to /root/nltk_data...\n",
            "[nltk_data]    |   Unzipping corpora/mac_morpho.zip.\n",
            "[nltk_data]    | Downloading package machado to /root/nltk_data...\n",
            "[nltk_data]    | Downloading package masc_tagged to /root/nltk_data...\n",
            "[nltk_data]    | Downloading package maxent_ne_chunker to\n",
            "[nltk_data]    |     /root/nltk_data...\n",
            "[nltk_data]    |   Unzipping chunkers/maxent_ne_chunker.zip.\n",
            "[nltk_data]    | Downloading package maxent_treebank_pos_tagger to\n",
            "[nltk_data]    |     /root/nltk_data...\n",
            "[nltk_data]    |   Unzipping taggers/maxent_treebank_pos_tagger.zip.\n",
            "[nltk_data]    | Downloading package moses_sample to\n",
            "[nltk_data]    |     /root/nltk_data...\n",
            "[nltk_data]    |   Unzipping models/moses_sample.zip.\n",
            "[nltk_data]    | Downloading package movie_reviews to\n",
            "[nltk_data]    |     /root/nltk_data...\n",
            "[nltk_data]    |   Unzipping corpora/movie_reviews.zip.\n",
            "[nltk_data]    | Downloading package mte_teip5 to /root/nltk_data...\n",
            "[nltk_data]    |   Unzipping corpora/mte_teip5.zip.\n",
            "[nltk_data]    | Downloading package mwa_ppdb to /root/nltk_data...\n",
            "[nltk_data]    |   Unzipping misc/mwa_ppdb.zip.\n",
            "[nltk_data]    | Downloading package names to /root/nltk_data...\n",
            "[nltk_data]    |   Unzipping corpora/names.zip.\n",
            "[nltk_data]    | Downloading package nombank.1.0 to /root/nltk_data...\n",
            "[nltk_data]    | Downloading package nonbreaking_prefixes to\n",
            "[nltk_data]    |     /root/nltk_data...\n",
            "[nltk_data]    |   Unzipping corpora/nonbreaking_prefixes.zip.\n",
            "[nltk_data]    | Downloading package nps_chat to /root/nltk_data...\n",
            "[nltk_data]    |   Unzipping corpora/nps_chat.zip.\n",
            "[nltk_data]    | Downloading package omw to /root/nltk_data...\n",
            "[nltk_data]    | Downloading package omw-1.4 to /root/nltk_data...\n",
            "[nltk_data]    | Downloading package opinion_lexicon to\n",
            "[nltk_data]    |     /root/nltk_data...\n",
            "[nltk_data]    |   Unzipping corpora/opinion_lexicon.zip.\n",
            "[nltk_data]    | Downloading package panlex_swadesh to\n",
            "[nltk_data]    |     /root/nltk_data...\n",
            "[nltk_data]    | Downloading package paradigms to /root/nltk_data...\n",
            "[nltk_data]    |   Unzipping corpora/paradigms.zip.\n",
            "[nltk_data]    | Downloading package pe08 to /root/nltk_data...\n",
            "[nltk_data]    |   Unzipping corpora/pe08.zip.\n",
            "[nltk_data]    | Downloading package perluniprops to\n",
            "[nltk_data]    |     /root/nltk_data...\n",
            "[nltk_data]    |   Unzipping misc/perluniprops.zip.\n",
            "[nltk_data]    | Downloading package pil to /root/nltk_data...\n",
            "[nltk_data]    |   Unzipping corpora/pil.zip.\n",
            "[nltk_data]    | Downloading package pl196x to /root/nltk_data...\n",
            "[nltk_data]    |   Unzipping corpora/pl196x.zip.\n",
            "[nltk_data]    | Downloading package porter_test to /root/nltk_data...\n",
            "[nltk_data]    |   Unzipping stemmers/porter_test.zip.\n",
            "[nltk_data]    | Downloading package ppattach to /root/nltk_data...\n",
            "[nltk_data]    |   Unzipping corpora/ppattach.zip.\n",
            "[nltk_data]    | Downloading package problem_reports to\n",
            "[nltk_data]    |     /root/nltk_data...\n",
            "[nltk_data]    |   Unzipping corpora/problem_reports.zip.\n",
            "[nltk_data]    | Downloading package product_reviews_1 to\n",
            "[nltk_data]    |     /root/nltk_data...\n",
            "[nltk_data]    |   Unzipping corpora/product_reviews_1.zip.\n",
            "[nltk_data]    | Downloading package product_reviews_2 to\n",
            "[nltk_data]    |     /root/nltk_data...\n",
            "[nltk_data]    |   Unzipping corpora/product_reviews_2.zip.\n",
            "[nltk_data]    | Downloading package propbank to /root/nltk_data...\n",
            "[nltk_data]    | Downloading package pros_cons to /root/nltk_data...\n",
            "[nltk_data]    |   Unzipping corpora/pros_cons.zip.\n",
            "[nltk_data]    | Downloading package ptb to /root/nltk_data...\n",
            "[nltk_data]    |   Unzipping corpora/ptb.zip.\n",
            "[nltk_data]    | Downloading package punkt to /root/nltk_data...\n",
            "[nltk_data]    |   Unzipping tokenizers/punkt.zip.\n",
            "[nltk_data]    | Downloading package qc to /root/nltk_data...\n",
            "[nltk_data]    |   Unzipping corpora/qc.zip.\n",
            "[nltk_data]    | Downloading package reuters to /root/nltk_data...\n",
            "[nltk_data]    | Downloading package rslp to /root/nltk_data...\n",
            "[nltk_data]    |   Unzipping stemmers/rslp.zip.\n",
            "[nltk_data]    | Downloading package rte to /root/nltk_data...\n",
            "[nltk_data]    |   Unzipping corpora/rte.zip.\n",
            "[nltk_data]    | Downloading package sample_grammars to\n",
            "[nltk_data]    |     /root/nltk_data...\n",
            "[nltk_data]    |   Unzipping grammars/sample_grammars.zip.\n",
            "[nltk_data]    | Downloading package semcor to /root/nltk_data...\n",
            "[nltk_data]    | Downloading package senseval to /root/nltk_data...\n",
            "[nltk_data]    |   Unzipping corpora/senseval.zip.\n",
            "[nltk_data]    | Downloading package sentence_polarity to\n",
            "[nltk_data]    |     /root/nltk_data...\n",
            "[nltk_data]    |   Unzipping corpora/sentence_polarity.zip.\n",
            "[nltk_data]    | Downloading package sentiwordnet to\n",
            "[nltk_data]    |     /root/nltk_data...\n",
            "[nltk_data]    |   Unzipping corpora/sentiwordnet.zip.\n",
            "[nltk_data]    | Downloading package shakespeare to /root/nltk_data...\n",
            "[nltk_data]    |   Unzipping corpora/shakespeare.zip.\n",
            "[nltk_data]    | Downloading package sinica_treebank to\n",
            "[nltk_data]    |     /root/nltk_data...\n",
            "[nltk_data]    |   Unzipping corpora/sinica_treebank.zip.\n",
            "[nltk_data]    | Downloading package smultron to /root/nltk_data...\n",
            "[nltk_data]    |   Unzipping corpora/smultron.zip.\n",
            "[nltk_data]    | Downloading package snowball_data to\n",
            "[nltk_data]    |     /root/nltk_data...\n",
            "[nltk_data]    | Downloading package spanish_grammars to\n",
            "[nltk_data]    |     /root/nltk_data...\n",
            "[nltk_data]    |   Unzipping grammars/spanish_grammars.zip.\n",
            "[nltk_data]    | Downloading package state_union to /root/nltk_data...\n",
            "[nltk_data]    |   Unzipping corpora/state_union.zip.\n",
            "[nltk_data]    | Downloading package stopwords to /root/nltk_data...\n",
            "[nltk_data]    |   Unzipping corpora/stopwords.zip.\n",
            "[nltk_data]    | Downloading package subjectivity to\n",
            "[nltk_data]    |     /root/nltk_data...\n",
            "[nltk_data]    |   Unzipping corpora/subjectivity.zip.\n",
            "[nltk_data]    | Downloading package swadesh to /root/nltk_data...\n",
            "[nltk_data]    |   Unzipping corpora/swadesh.zip.\n",
            "[nltk_data]    | Downloading package switchboard to /root/nltk_data...\n",
            "[nltk_data]    |   Unzipping corpora/switchboard.zip.\n",
            "[nltk_data]    | Downloading package tagsets to /root/nltk_data...\n",
            "[nltk_data]    |   Unzipping help/tagsets.zip.\n",
            "[nltk_data]    | Downloading package timit to /root/nltk_data...\n",
            "[nltk_data]    |   Unzipping corpora/timit.zip.\n",
            "[nltk_data]    | Downloading package toolbox to /root/nltk_data...\n",
            "[nltk_data]    |   Unzipping corpora/toolbox.zip.\n",
            "[nltk_data]    | Downloading package treebank to /root/nltk_data...\n",
            "[nltk_data]    |   Unzipping corpora/treebank.zip.\n",
            "[nltk_data]    | Downloading package twitter_samples to\n",
            "[nltk_data]    |     /root/nltk_data...\n",
            "[nltk_data]    |   Unzipping corpora/twitter_samples.zip.\n",
            "[nltk_data]    | Downloading package udhr to /root/nltk_data...\n",
            "[nltk_data]    |   Unzipping corpora/udhr.zip.\n",
            "[nltk_data]    | Downloading package udhr2 to /root/nltk_data...\n",
            "[nltk_data]    |   Unzipping corpora/udhr2.zip.\n",
            "[nltk_data]    | Downloading package unicode_samples to\n",
            "[nltk_data]    |     /root/nltk_data...\n",
            "[nltk_data]    |   Unzipping corpora/unicode_samples.zip.\n",
            "[nltk_data]    | Downloading package universal_tagset to\n",
            "[nltk_data]    |     /root/nltk_data...\n",
            "[nltk_data]    |   Unzipping taggers/universal_tagset.zip.\n",
            "[nltk_data]    | Downloading package universal_treebanks_v20 to\n",
            "[nltk_data]    |     /root/nltk_data...\n",
            "[nltk_data]    | Downloading package vader_lexicon to\n",
            "[nltk_data]    |     /root/nltk_data...\n",
            "[nltk_data]    | Downloading package verbnet to /root/nltk_data...\n",
            "[nltk_data]    |   Unzipping corpora/verbnet.zip.\n",
            "[nltk_data]    | Downloading package verbnet3 to /root/nltk_data...\n",
            "[nltk_data]    |   Unzipping corpora/verbnet3.zip.\n",
            "[nltk_data]    | Downloading package webtext to /root/nltk_data...\n",
            "[nltk_data]    |   Unzipping corpora/webtext.zip.\n",
            "[nltk_data]    | Downloading package wmt15_eval to /root/nltk_data...\n",
            "[nltk_data]    |   Unzipping models/wmt15_eval.zip.\n",
            "[nltk_data]    | Downloading package word2vec_sample to\n",
            "[nltk_data]    |     /root/nltk_data...\n",
            "[nltk_data]    |   Unzipping models/word2vec_sample.zip.\n",
            "[nltk_data]    | Downloading package wordnet to /root/nltk_data...\n",
            "[nltk_data]    | Downloading package wordnet2021 to /root/nltk_data...\n",
            "[nltk_data]    | Downloading package wordnet2022 to /root/nltk_data...\n",
            "[nltk_data]    |   Unzipping corpora/wordnet2022.zip.\n",
            "[nltk_data]    | Downloading package wordnet31 to /root/nltk_data...\n",
            "[nltk_data]    | Downloading package wordnet_ic to /root/nltk_data...\n",
            "[nltk_data]    |   Unzipping corpora/wordnet_ic.zip.\n",
            "[nltk_data]    | Downloading package words to /root/nltk_data...\n",
            "[nltk_data]    |   Unzipping corpora/words.zip.\n",
            "[nltk_data]    | Downloading package ycoe to /root/nltk_data...\n",
            "[nltk_data]    |   Unzipping corpora/ycoe.zip.\n",
            "[nltk_data]    | \n",
            "[nltk_data]  Done downloading collection all\n"
          ]
        }
      ]
    },
    {
      "cell_type": "code",
      "source": [
        "# Adicionar mais palavras ao stopwords criado, verificando se já existe\n",
        "new_stopwords = ['br', 'pág', 'listView', 'https', 'http', 'advogado', 'tabela', 'seguir', 'administrativo', 'processo',\n",
        "                 'numbr','numbrª', 'ª', 'nº', 'juízo', 'Federal', 'ofício', 'geral', 'defensoria', 'pública', 'união',\n",
        "                 'justiça', 'federal', 'região', 'pje', 'processo', 'judicial', 'vara', 'subseção', 'judiciária',\n",
        "                 'juizado', 'especial' , 'cível', 'seção', 'excelentíssimo', 'senhor', 'doutor', 'juiz', 'acórdão',\n",
        "                 'classe', 'procedimento', 'órgão', 'distribuição', 'excelentissimo', 'gerador', 'fato',\n",
        "                 'brasileira', 'divorciada', 'servidora', 'cpf', 'residente', 'domiciliada', 'rua',\n",
        "                 'constituído', 'através', 'procuração', 'anexo', 'vem', 'perante', 'vossa', 'excelência', 'todo', 'acato', 'ajuizar',\n",
        "                 'presente', 'obrigação', 'fazer', 'pessoa', 'jurídica', 'direito', 'público', 'inscrita', 'cnpj', 'representada', 'localizada',\n",
        "                 'estado', 'rio', 'grande', 'norte'] \n",
        "print(len(stopwords))\n",
        "for word in new_stopwords:\n",
        "  if word not in stopwords:\n",
        "    stopwords.append(word)\n",
        "print(len(stopwords))"
      ],
      "metadata": {
        "colab": {
          "base_uri": "https://localhost:8080/"
        },
        "id": "5V3wH56lMglw",
        "outputId": "460c8bf5-eeb1-4a7d-c021-d0bc2c7ba597"
      },
      "execution_count": null,
      "outputs": [
        {
          "output_type": "stream",
          "name": "stdout",
          "text": [
            "207\n",
            "285\n"
          ]
        }
      ]
    },
    {
      "cell_type": "markdown",
      "source": [
        "***\n",
        "## **Importando os documentos de petição** <img src=\"https://as2.ftcdn.net/v2/jpg/01/69/33/39/1000_F_169333910_pGApA6p8bYBGq0oNmJYJLOswGfCRZuxE.jpg\" width=\"3%\">\n",
        "***"
      ],
      "metadata": {
        "id": "tVd26u0uL9lO"
      }
    },
    {
      "cell_type": "markdown",
      "source": [
        "Foi realizado um trabalho manual dos servidores da justiça em que a cada petição inicial corrigida, a mesma era colocada em uma determinada pasta com o nome do assunto a qual ela pertencia. Devido a isso, foi feito uma engenharia em que foi criado o dataFrame a partir dessa separação de petições por pastas. \n",
        "\n",
        "No final, será gerado um arquivo csv para não rodar o script para gerar os dataFrames, e será trabalhado com esse arquivo CSV. Em caso de novas petições chegarem, o processo de gerar o nosso dataFrame poderar ser usado novamente, gerando um novo arquivo csv, ao qual substituiremos. "
      ],
      "metadata": {
        "id": "I0NvSzkfpGiX"
      }
    },
    {
      "cell_type": "code",
      "source": [
        "def transforma_dataframe(lista_arquivos, classe):\n",
        "  lista_strings = []\n",
        "  for peticao in lista_arquivos:\n",
        "    with open(peticao, \"rb\") as f:\n",
        "      pdf = pdftotext.PDF(f)\n",
        "    lista_strings.append(\"\\n\\n\".join(pdf))\n",
        "\n",
        "  classificacao = []\n",
        "  for i in range(len(lista_arquivos)):\n",
        "    classificacao.append(classe)\n",
        "\n",
        "  df = cria_dataframe(lista_arquivos, lista_strings, classificacao)\n",
        "  return df\n",
        "\n",
        "def cria_dataframe(lista_arquivos, lista_strings, classificacao):\n",
        "  dicionario_peticao = {\n",
        "    'nome_documento': lista_arquivos,\n",
        "    'conteudo_peticao': lista_strings,\n",
        "    'classificacao': classificacao,\n",
        "  }\n",
        "  \n",
        "  df_peticao_inicial = pd.DataFrame(dicionario_peticao)\n",
        "  return df_peticao_inicial\n",
        "\n",
        "  "
      ],
      "metadata": {
        "id": "QObu0I1XM7Mm"
      },
      "execution_count": null,
      "outputs": []
    },
    {
      "cell_type": "code",
      "source": [
        "lista_arquivos = []\n",
        "for arquivo in glob.glob(r'/content/drive/MyDrive/trf5.peticoes/20 - APOSENTADORIA POR IDADE HÍBRIDA (URBANA RURAL)/*pdf'):\n",
        "  if arquivo not in lista_arquivos:\n",
        "    lista_arquivos.append(arquivo)\n",
        "\n",
        "df_idade_hibrida = transforma_dataframe(lista_arquivos, \"idade_hibrida\")"
      ],
      "metadata": {
        "id": "bHujmaeqNy0P"
      },
      "execution_count": null,
      "outputs": []
    },
    {
      "cell_type": "code",
      "source": [
        "lista_arquivos = []\n",
        "for arquivo in glob.glob(r'/content/drive/MyDrive/trf5.peticoes/20 - AUXÍLIO-EMERGENCIAL/*pdf'):\n",
        "  if arquivo not in lista_arquivos:\n",
        "    lista_arquivos.append(arquivo)\n",
        "\n",
        "df_auxilio_emergencial = transforma_dataframe(lista_arquivos, \"auxilio_emergencial\")"
      ],
      "metadata": {
        "id": "h9v2uGnKPpzH"
      },
      "execution_count": null,
      "outputs": []
    },
    {
      "cell_type": "code",
      "source": [
        "lista_arquivos = []\n",
        "for arquivo in glob.glob(r'/content/drive/MyDrive/trf5.peticoes/20 - SAÚDE - FORNECIMENTO DE MEDICAMENTOS/*pdf'):\n",
        "  if arquivo not in lista_arquivos:\n",
        "    lista_arquivos.append(arquivo)\n",
        "\n",
        "df_fornecimento_medicamentos = transforma_dataframe(lista_arquivos, \"fornecimento_medicamentos\")"
      ],
      "metadata": {
        "id": "y6Rw27MyP-eo"
      },
      "execution_count": null,
      "outputs": []
    },
    {
      "cell_type": "code",
      "source": [
        "lista_arquivos = []\n",
        "for arquivo in glob.glob(r'/content/drive/MyDrive/trf5.peticoes/21 - AUXÍLIO-DOENÇA/*pdf'):\n",
        "  if arquivo not in lista_arquivos:\n",
        "    lista_arquivos.append(arquivo)\n",
        "\n",
        "df_auxilio_doenca = transforma_dataframe(lista_arquivos, \"auxilio_doenca\")"
      ],
      "metadata": {
        "id": "2CxdSzPdRPR2"
      },
      "execution_count": null,
      "outputs": []
    },
    {
      "cell_type": "code",
      "source": [
        "lista_arquivos = []\n",
        "for arquivo in glob.glob(r'/content/drive/MyDrive/trf5.peticoes/23 - APOSENTADORIA POR IDADE URBANA/*pdf'):\n",
        "  if arquivo not in lista_arquivos:\n",
        "    lista_arquivos.append(arquivo)\n",
        "\n",
        "df_aposentadoria_idade_urbana = transforma_dataframe(lista_arquivos, \"aposentadoria_idade_urbana\")"
      ],
      "metadata": {
        "id": "57ub2gIDRPZO"
      },
      "execution_count": null,
      "outputs": []
    },
    {
      "cell_type": "code",
      "source": [
        "lista_arquivos = []\n",
        "for arquivo in glob.glob(r'/content/drive/MyDrive/trf5.peticoes/23 - TRIB - CONTR. PREV. PAGAS ALÉM DO TETO/*pdf'):\n",
        "  if arquivo not in lista_arquivos:\n",
        "    lista_arquivos.append(arquivo)\n",
        "\n",
        "df_prev_pagas_alem_do_teto = transforma_dataframe(lista_arquivos, \"prev_pagas_alem_do_teto\")"
      ],
      "metadata": {
        "id": "qKZHzWQVdRi9"
      },
      "execution_count": null,
      "outputs": []
    },
    {
      "cell_type": "code",
      "source": [
        "lista_arquivos = []\n",
        "for arquivo in glob.glob(r'/content/drive/MyDrive/trf5.peticoes/25 - APOSENTADORIA POR TEMPO DE CONTRIBUICAO/*pdf'):\n",
        "  if arquivo not in lista_arquivos:\n",
        "    lista_arquivos.append(arquivo)\n",
        "\n",
        "df_aposentadoria_tempo_contribuicao = transforma_dataframe(lista_arquivos, \"aposentadoria_tempo_contribuicao\")"
      ],
      "metadata": {
        "id": "3hujlWZhelUB"
      },
      "execution_count": null,
      "outputs": []
    },
    {
      "cell_type": "code",
      "source": [
        "lista_arquivos = []\n",
        "for arquivo in glob.glob(r'/content/drive/MyDrive/trf5.peticoes/25 - AUXILIO RECLUSAO/*pdf'):\n",
        "  if arquivo not in lista_arquivos:\n",
        "    lista_arquivos.append(arquivo)\n",
        "\n",
        "df_auxilio_reclusao = transforma_dataframe(lista_arquivos, \"auxilio_reclusao\")"
      ],
      "metadata": {
        "id": "5HtU_wFNd0Sx"
      },
      "execution_count": null,
      "outputs": []
    },
    {
      "cell_type": "code",
      "source": [
        "lista_arquivos = []\n",
        "for arquivo in glob.glob(r'/content/drive/MyDrive/trf5.peticoes/25 - SALARIO MATERNIDADE - URBANA/*pdf'):\n",
        "  if arquivo not in lista_arquivos:\n",
        "    lista_arquivos.append(arquivo)\n",
        "\n",
        "df_salario_maternidade_urbana = transforma_dataframe(lista_arquivos, \"salario_maternidade_urbana\")"
      ],
      "metadata": {
        "id": "hUAJveJFPCBz"
      },
      "execution_count": null,
      "outputs": []
    },
    {
      "cell_type": "code",
      "source": [
        "lista_arquivos = []\n",
        "for arquivo in glob.glob(r'/content/drive/MyDrive/trf5.peticoes/26 - ACAO COBRANCA DPVAT/*pdf'):\n",
        "  if arquivo not in lista_arquivos:\n",
        "    lista_arquivos.append(arquivo)\n",
        "\n",
        "df_acao_cobranca_dpvat = transforma_dataframe(lista_arquivos, \"acao_cobranca_dpvat\")"
      ],
      "metadata": {
        "id": "tV27MrbbPCIY"
      },
      "execution_count": null,
      "outputs": []
    },
    {
      "cell_type": "code",
      "source": [
        "lista_arquivos = []\n",
        "for arquivo in glob.glob(r'/content/drive/MyDrive/trf5.peticoes/29 - REVISIONAL FGTS/*pdf'):\n",
        "  if arquivo not in lista_arquivos:\n",
        "    lista_arquivos.append(arquivo)\n",
        "\n",
        "df_revisional_fgts = transforma_dataframe(lista_arquivos, \"revisional_fgts\")"
      ],
      "metadata": {
        "id": "2xV7FqBFPCMI"
      },
      "execution_count": null,
      "outputs": []
    },
    {
      "cell_type": "code",
      "source": [
        "lista_arquivos = []\n",
        "for arquivo in glob.glob(r'/content/drive/MyDrive/trf5.peticoes/33 - AUXÍLIO-DOENÇA E APOSENTADORIA POR INVALIDEZ/*pdf'):\n",
        "  if arquivo not in lista_arquivos:\n",
        "    lista_arquivos.append(arquivo)\n",
        "\n",
        "df_aux_doenca_aposent_invalidez = transforma_dataframe(lista_arquivos, \"aux_doenca_aposent_invalidez\")"
      ],
      "metadata": {
        "id": "J2EIRMAvPqIx"
      },
      "execution_count": null,
      "outputs": []
    },
    {
      "cell_type": "code",
      "source": [
        "lista_arquivos = []\n",
        "for arquivo in glob.glob(r'/content/drive/MyDrive/trf5.peticoes/35 - PENSAO POR MORTE/*pdf'):\n",
        "  if arquivo not in lista_arquivos:\n",
        "    lista_arquivos.append(arquivo)\n",
        "\n",
        "df_pensao_p_morte = transforma_dataframe(lista_arquivos, \"pensao_p_morte\")"
      ],
      "metadata": {
        "id": "SMgxqSwDPqO2"
      },
      "execution_count": null,
      "outputs": []
    },
    {
      "cell_type": "code",
      "source": [
        "lista_arquivos = []\n",
        "for arquivo in glob.glob(r'/content/drive/MyDrive/trf5.peticoes/45 - APOSENTADORIA IDADE RURAL/*pdf'):\n",
        "  if arquivo not in lista_arquivos:\n",
        "    lista_arquivos.append(arquivo)\n",
        "\n",
        "df_aposen_idade_rural = transforma_dataframe(lista_arquivos, \"aposen_idade_rural\")"
      ],
      "metadata": {
        "id": "3TqjETL2PqVr"
      },
      "execution_count": null,
      "outputs": []
    },
    {
      "cell_type": "code",
      "source": [
        "lista_arquivos = []\n",
        "for arquivo in glob.glob(r'/content/drive/MyDrive/trf5.peticoes/57 - SALARIO MATERNIDADE RURAL/*pdf'):\n",
        "  if arquivo not in lista_arquivos:\n",
        "    lista_arquivos.append(arquivo)\n",
        "\n",
        "df_salario_maternidade_rural = transforma_dataframe(lista_arquivos, \"salario_maternidade_rural\")"
      ],
      "metadata": {
        "id": "8mmLp6VsPqa5"
      },
      "execution_count": null,
      "outputs": []
    },
    {
      "cell_type": "code",
      "source": [
        "lista_arquivos = []\n",
        "for arquivo in glob.glob(r'/content/drive/MyDrive/trf5.peticoes/48 - APOSENTADORIA ESPECIAL/*pdf'):\n",
        "  if arquivo not in lista_arquivos:\n",
        "    lista_arquivos.append(arquivo)\n",
        "\n",
        "df_aposent_especial = transforma_dataframe(lista_arquivos, \"aposent_especial\")"
      ],
      "metadata": {
        "id": "0MB31bwKUvy_"
      },
      "execution_count": null,
      "outputs": []
    },
    {
      "cell_type": "code",
      "source": [
        "lista_arquivos = []\n",
        "for arquivo in glob.glob(r'/content/drive/MyDrive/trf5.peticoes/65 - BENEFICIO ASSISTENCIAL - LOAS/*pdf'):\n",
        "  if arquivo not in lista_arquivos:\n",
        "    lista_arquivos.append(arquivo)\n",
        "\n",
        "df_benef_assist_loas = transforma_dataframe(lista_arquivos, \"benef_assist_loas\")"
      ],
      "metadata": {
        "id": "lrYDpHk0Uv9X"
      },
      "execution_count": null,
      "outputs": []
    },
    {
      "cell_type": "code",
      "source": [
        "# Concatenando os dataframes\n",
        "df_peticoes_iniciais = pd.concat(\n",
        "                                  [\n",
        "                                  df_idade_hibrida,\n",
        "                                  df_auxilio_emergencial, \n",
        "                                  df_fornecimento_medicamentos,\n",
        "                                  df_auxilio_doenca,\n",
        "                                  df_aposentadoria_idade_urbana, \n",
        "                                  df_prev_pagas_alem_do_teto, \n",
        "                                  df_aposentadoria_tempo_contribuicao,\n",
        "                                  df_auxilio_reclusao, \n",
        "                                  df_salario_maternidade_urbana,\n",
        "                                  df_acao_cobranca_dpvat, \n",
        "                                  df_revisional_fgts, \n",
        "                                  df_aux_doenca_aposent_invalidez, \n",
        "                                  df_pensao_p_morte, \n",
        "                                  df_aposen_idade_rural,\n",
        "                                  df_aposent_especial,\n",
        "                                  df_salario_maternidade_rural,\n",
        "                                  df_benef_assist_loas\n",
        "                                  ], \n",
        "                                 ignore_index=True\n",
        "                                 )"
      ],
      "metadata": {
        "id": "RKsC6kXwfpNk"
      },
      "execution_count": null,
      "outputs": []
    },
    {
      "cell_type": "code",
      "source": [
        "df_peticoes_iniciais.to_csv(r'/content/drive/MyDrive/trf5.peticoes/DataFrame_10_02_2023', index=False)"
      ],
      "metadata": {
        "id": "qQ_jBGsPLPAE"
      },
      "execution_count": null,
      "outputs": []
    },
    {
      "cell_type": "code",
      "source": [
        "df_peticoes_iniciais['conteudo_peticao'].filter(items=[78], axis=0)"
      ],
      "metadata": {
        "id": "dXslcDUQgk27",
        "colab": {
          "base_uri": "https://localhost:8080/"
        },
        "outputId": "af263edd-c6c9-4b60-b37a-62ef468632e2"
      },
      "execution_count": null,
      "outputs": [
        {
          "output_type": "execute_result",
          "data": {
            "text/plain": [
              "78                    SSIMO SENHOR DOUTOR JUIZ FEDER...\n",
              "Name: conteudo_peticao, dtype: object"
            ]
          },
          "metadata": {},
          "execution_count": 63
        }
      ]
    },
    {
      "cell_type": "code",
      "source": [
        "df_peticoes_iniciais"
      ],
      "metadata": {
        "colab": {
          "base_uri": "https://localhost:8080/",
          "height": 424
        },
        "id": "OWrbFSV9WHuK",
        "outputId": "7ed95d18-0cc9-48bd-afb7-6dde6fa691ff"
      },
      "execution_count": null,
      "outputs": [
        {
          "output_type": "execute_result",
          "data": {
            "text/plain": [
              "                                        nome_documento  \\\n",
              "0    /content/drive/MyDrive/trf5.peticoes/20 - AUXI...   \n",
              "1    /content/drive/MyDrive/trf5.peticoes/20 - AUXI...   \n",
              "2    /content/drive/MyDrive/trf5.peticoes/20 - AUXI...   \n",
              "3    /content/drive/MyDrive/trf5.peticoes/20 - AUXI...   \n",
              "4    /content/drive/MyDrive/trf5.peticoes/20 - AUXI...   \n",
              "..                                                 ...   \n",
              "516  /content/drive/MyDrive/trf5.peticoes/65 - BENE...   \n",
              "517  /content/drive/MyDrive/trf5.peticoes/65 - BENE...   \n",
              "518  /content/drive/MyDrive/trf5.peticoes/65 - BENE...   \n",
              "519  /content/drive/MyDrive/trf5.peticoes/65 - BENE...   \n",
              "520  /content/drive/MyDrive/trf5.peticoes/65 - BENE...   \n",
              "\n",
              "                                      conteudo_peticao        classificacao  \n",
              "0                            DEFENSORIA PÚBLICA DA ...  auxilio_emergencial  \n",
              "1                                             \\n\\n\\n\\n  auxilio_emergencial  \n",
              "2    AO JUIZADO ESPECIAL FEDERAL ADJUNTO À ___ VARA...  auxilio_emergencial  \n",
              "3                  Justiça Federal da 5ª Região\\n  ...  auxilio_emergencial  \n",
              "4    EXCELENTÍSSIMO(A) SENHOR(A) DOUTOR(A) JUIZ(A) ...  auxilio_emergencial  \n",
              "..                                                 ...                  ...  \n",
              "516  MM. JUÍZO DA 31ª VARA FEDERAL DA 5ª REGIÃO, CO...    benef_assist_loas  \n",
              "517  AO JUÍZO DA 27ª VARA DO JUIZADO ESPECIAL FEDER...    benef_assist_loas  \n",
              "518                Justiça Federal da 5ª Região\\n  ...    benef_assist_loas  \n",
              "519                Justiça Federal da 5ª Região\\n  ...    benef_assist_loas  \n",
              "520  EXCELENTÍSSIMO DOUTOR JUIZ FEDERAL DO JUIZADO ...    benef_assist_loas  \n",
              "\n",
              "[521 rows x 3 columns]"
            ],
            "text/html": [
              "\n",
              "  <div id=\"df-91fbce05-1f14-4378-9a83-a4fa4b750360\">\n",
              "    <div class=\"colab-df-container\">\n",
              "      <div>\n",
              "<style scoped>\n",
              "    .dataframe tbody tr th:only-of-type {\n",
              "        vertical-align: middle;\n",
              "    }\n",
              "\n",
              "    .dataframe tbody tr th {\n",
              "        vertical-align: top;\n",
              "    }\n",
              "\n",
              "    .dataframe thead th {\n",
              "        text-align: right;\n",
              "    }\n",
              "</style>\n",
              "<table border=\"1\" class=\"dataframe\">\n",
              "  <thead>\n",
              "    <tr style=\"text-align: right;\">\n",
              "      <th></th>\n",
              "      <th>nome_documento</th>\n",
              "      <th>conteudo_peticao</th>\n",
              "      <th>classificacao</th>\n",
              "    </tr>\n",
              "  </thead>\n",
              "  <tbody>\n",
              "    <tr>\n",
              "      <th>0</th>\n",
              "      <td>/content/drive/MyDrive/trf5.peticoes/20 - AUXI...</td>\n",
              "      <td>DEFENSORIA PÚBLICA DA ...</td>\n",
              "      <td>auxilio_emergencial</td>\n",
              "    </tr>\n",
              "    <tr>\n",
              "      <th>1</th>\n",
              "      <td>/content/drive/MyDrive/trf5.peticoes/20 - AUXI...</td>\n",
              "      <td>\\n\\n\\n\\n</td>\n",
              "      <td>auxilio_emergencial</td>\n",
              "    </tr>\n",
              "    <tr>\n",
              "      <th>2</th>\n",
              "      <td>/content/drive/MyDrive/trf5.peticoes/20 - AUXI...</td>\n",
              "      <td>AO JUIZADO ESPECIAL FEDERAL ADJUNTO À ___ VARA...</td>\n",
              "      <td>auxilio_emergencial</td>\n",
              "    </tr>\n",
              "    <tr>\n",
              "      <th>3</th>\n",
              "      <td>/content/drive/MyDrive/trf5.peticoes/20 - AUXI...</td>\n",
              "      <td>Justiça Federal da 5ª Região\\n  ...</td>\n",
              "      <td>auxilio_emergencial</td>\n",
              "    </tr>\n",
              "    <tr>\n",
              "      <th>4</th>\n",
              "      <td>/content/drive/MyDrive/trf5.peticoes/20 - AUXI...</td>\n",
              "      <td>EXCELENTÍSSIMO(A) SENHOR(A) DOUTOR(A) JUIZ(A) ...</td>\n",
              "      <td>auxilio_emergencial</td>\n",
              "    </tr>\n",
              "    <tr>\n",
              "      <th>...</th>\n",
              "      <td>...</td>\n",
              "      <td>...</td>\n",
              "      <td>...</td>\n",
              "    </tr>\n",
              "    <tr>\n",
              "      <th>516</th>\n",
              "      <td>/content/drive/MyDrive/trf5.peticoes/65 - BENE...</td>\n",
              "      <td>MM. JUÍZO DA 31ª VARA FEDERAL DA 5ª REGIÃO, CO...</td>\n",
              "      <td>benef_assist_loas</td>\n",
              "    </tr>\n",
              "    <tr>\n",
              "      <th>517</th>\n",
              "      <td>/content/drive/MyDrive/trf5.peticoes/65 - BENE...</td>\n",
              "      <td>AO JUÍZO DA 27ª VARA DO JUIZADO ESPECIAL FEDER...</td>\n",
              "      <td>benef_assist_loas</td>\n",
              "    </tr>\n",
              "    <tr>\n",
              "      <th>518</th>\n",
              "      <td>/content/drive/MyDrive/trf5.peticoes/65 - BENE...</td>\n",
              "      <td>Justiça Federal da 5ª Região\\n  ...</td>\n",
              "      <td>benef_assist_loas</td>\n",
              "    </tr>\n",
              "    <tr>\n",
              "      <th>519</th>\n",
              "      <td>/content/drive/MyDrive/trf5.peticoes/65 - BENE...</td>\n",
              "      <td>Justiça Federal da 5ª Região\\n  ...</td>\n",
              "      <td>benef_assist_loas</td>\n",
              "    </tr>\n",
              "    <tr>\n",
              "      <th>520</th>\n",
              "      <td>/content/drive/MyDrive/trf5.peticoes/65 - BENE...</td>\n",
              "      <td>EXCELENTÍSSIMO DOUTOR JUIZ FEDERAL DO JUIZADO ...</td>\n",
              "      <td>benef_assist_loas</td>\n",
              "    </tr>\n",
              "  </tbody>\n",
              "</table>\n",
              "<p>521 rows × 3 columns</p>\n",
              "</div>\n",
              "      <button class=\"colab-df-convert\" onclick=\"convertToInteractive('df-91fbce05-1f14-4378-9a83-a4fa4b750360')\"\n",
              "              title=\"Convert this dataframe to an interactive table.\"\n",
              "              style=\"display:none;\">\n",
              "        \n",
              "  <svg xmlns=\"http://www.w3.org/2000/svg\" height=\"24px\"viewBox=\"0 0 24 24\"\n",
              "       width=\"24px\">\n",
              "    <path d=\"M0 0h24v24H0V0z\" fill=\"none\"/>\n",
              "    <path d=\"M18.56 5.44l.94 2.06.94-2.06 2.06-.94-2.06-.94-.94-2.06-.94 2.06-2.06.94zm-11 1L8.5 8.5l.94-2.06 2.06-.94-2.06-.94L8.5 2.5l-.94 2.06-2.06.94zm10 10l.94 2.06.94-2.06 2.06-.94-2.06-.94-.94-2.06-.94 2.06-2.06.94z\"/><path d=\"M17.41 7.96l-1.37-1.37c-.4-.4-.92-.59-1.43-.59-.52 0-1.04.2-1.43.59L10.3 9.45l-7.72 7.72c-.78.78-.78 2.05 0 2.83L4 21.41c.39.39.9.59 1.41.59.51 0 1.02-.2 1.41-.59l7.78-7.78 2.81-2.81c.8-.78.8-2.07 0-2.86zM5.41 20L4 18.59l7.72-7.72 1.47 1.35L5.41 20z\"/>\n",
              "  </svg>\n",
              "      </button>\n",
              "      \n",
              "  <style>\n",
              "    .colab-df-container {\n",
              "      display:flex;\n",
              "      flex-wrap:wrap;\n",
              "      gap: 12px;\n",
              "    }\n",
              "\n",
              "    .colab-df-convert {\n",
              "      background-color: #E8F0FE;\n",
              "      border: none;\n",
              "      border-radius: 50%;\n",
              "      cursor: pointer;\n",
              "      display: none;\n",
              "      fill: #1967D2;\n",
              "      height: 32px;\n",
              "      padding: 0 0 0 0;\n",
              "      width: 32px;\n",
              "    }\n",
              "\n",
              "    .colab-df-convert:hover {\n",
              "      background-color: #E2EBFA;\n",
              "      box-shadow: 0px 1px 2px rgba(60, 64, 67, 0.3), 0px 1px 3px 1px rgba(60, 64, 67, 0.15);\n",
              "      fill: #174EA6;\n",
              "    }\n",
              "\n",
              "    [theme=dark] .colab-df-convert {\n",
              "      background-color: #3B4455;\n",
              "      fill: #D2E3FC;\n",
              "    }\n",
              "\n",
              "    [theme=dark] .colab-df-convert:hover {\n",
              "      background-color: #434B5C;\n",
              "      box-shadow: 0px 1px 3px 1px rgba(0, 0, 0, 0.15);\n",
              "      filter: drop-shadow(0px 1px 2px rgba(0, 0, 0, 0.3));\n",
              "      fill: #FFFFFF;\n",
              "    }\n",
              "  </style>\n",
              "\n",
              "      <script>\n",
              "        const buttonEl =\n",
              "          document.querySelector('#df-91fbce05-1f14-4378-9a83-a4fa4b750360 button.colab-df-convert');\n",
              "        buttonEl.style.display =\n",
              "          google.colab.kernel.accessAllowed ? 'block' : 'none';\n",
              "\n",
              "        async function convertToInteractive(key) {\n",
              "          const element = document.querySelector('#df-91fbce05-1f14-4378-9a83-a4fa4b750360');\n",
              "          const dataTable =\n",
              "            await google.colab.kernel.invokeFunction('convertToInteractive',\n",
              "                                                     [key], {});\n",
              "          if (!dataTable) return;\n",
              "\n",
              "          const docLinkHtml = 'Like what you see? Visit the ' +\n",
              "            '<a target=\"_blank\" href=https://colab.research.google.com/notebooks/data_table.ipynb>data table notebook</a>'\n",
              "            + ' to learn more about interactive tables.';\n",
              "          element.innerHTML = '';\n",
              "          dataTable['output_type'] = 'display_data';\n",
              "          await google.colab.output.renderOutput(dataTable, element);\n",
              "          const docLink = document.createElement('div');\n",
              "          docLink.innerHTML = docLinkHtml;\n",
              "          element.appendChild(docLink);\n",
              "        }\n",
              "      </script>\n",
              "    </div>\n",
              "  </div>\n",
              "  "
            ]
          },
          "metadata": {},
          "execution_count": 64
        }
      ]
    },
    {
      "cell_type": "markdown",
      "source": [
        "***\n",
        "## **Pré-processamento** <img src=\"https://cdn-icons-png.flaticon.com/512/1556/1556231.png\" width=\"3%\"> \n",
        "***"
      ],
      "metadata": {
        "id": "_uORsMJSxOLp"
      }
    },
    {
      "cell_type": "markdown",
      "source": [
        "Nesta etapa vamos preparar os dados e usar Processamento de Linguagem Natural(PLN ou NLP) para melhorar nosso modelo. "
      ],
      "metadata": {
        "id": "MDnX4tAzwyyv"
      }
    },
    {
      "cell_type": "code",
      "source": [
        "# Aqui carregamos o CSV sempre atualizado\n",
        "df_peticoes_iniciais = pd.read_csv('/content/drive/MyDrive/trf5.peticoes/DataFrame_10_02_2023')"
      ],
      "metadata": {
        "id": "tjlgRlYX0YP_"
      },
      "execution_count": null,
      "outputs": []
    },
    {
      "cell_type": "markdown",
      "source": [
        "Finalmente, nosso dataFrame Inicial foi criado"
      ],
      "metadata": {
        "id": "wERTqfozsgew"
      }
    },
    {
      "cell_type": "code",
      "source": [
        "# Imprime 3 linhas dos nossos dados\n",
        "df_peticoes_iniciais.head(3)"
      ],
      "metadata": {
        "outputId": "a7aa2b3f-c889-4f80-cd5d-c7c16d0e6a9f",
        "colab": {
          "base_uri": "https://localhost:8080/"
        },
        "id": "IxnawSRufkU9"
      },
      "execution_count": null,
      "outputs": [
        {
          "output_type": "execute_result",
          "data": {
            "text/plain": [
              "                                      nome_documento  \\\n",
              "0  /content/drive/MyDrive/trf5.peticoes/20 - AUXI...   \n",
              "1  /content/drive/MyDrive/trf5.peticoes/20 - AUXI...   \n",
              "2  /content/drive/MyDrive/trf5.peticoes/20 - AUXI...   \n",
              "\n",
              "                                    conteudo_peticao        classificacao  \n",
              "0                          DEFENSORIA PÚBLICA DA ...  auxilio_emergencial  \n",
              "1                                           \\n\\n\\n\\n  auxilio_emergencial  \n",
              "2  AO JUIZADO ESPECIAL FEDERAL ADJUNTO À ___ VARA...  auxilio_emergencial  "
            ],
            "text/html": [
              "\n",
              "  <div id=\"df-4a94cd5d-0299-46f8-b1f1-088c329a361d\">\n",
              "    <div class=\"colab-df-container\">\n",
              "      <div>\n",
              "<style scoped>\n",
              "    .dataframe tbody tr th:only-of-type {\n",
              "        vertical-align: middle;\n",
              "    }\n",
              "\n",
              "    .dataframe tbody tr th {\n",
              "        vertical-align: top;\n",
              "    }\n",
              "\n",
              "    .dataframe thead th {\n",
              "        text-align: right;\n",
              "    }\n",
              "</style>\n",
              "<table border=\"1\" class=\"dataframe\">\n",
              "  <thead>\n",
              "    <tr style=\"text-align: right;\">\n",
              "      <th></th>\n",
              "      <th>nome_documento</th>\n",
              "      <th>conteudo_peticao</th>\n",
              "      <th>classificacao</th>\n",
              "    </tr>\n",
              "  </thead>\n",
              "  <tbody>\n",
              "    <tr>\n",
              "      <th>0</th>\n",
              "      <td>/content/drive/MyDrive/trf5.peticoes/20 - AUXI...</td>\n",
              "      <td>DEFENSORIA PÚBLICA DA ...</td>\n",
              "      <td>auxilio_emergencial</td>\n",
              "    </tr>\n",
              "    <tr>\n",
              "      <th>1</th>\n",
              "      <td>/content/drive/MyDrive/trf5.peticoes/20 - AUXI...</td>\n",
              "      <td>\\n\\n\\n\\n</td>\n",
              "      <td>auxilio_emergencial</td>\n",
              "    </tr>\n",
              "    <tr>\n",
              "      <th>2</th>\n",
              "      <td>/content/drive/MyDrive/trf5.peticoes/20 - AUXI...</td>\n",
              "      <td>AO JUIZADO ESPECIAL FEDERAL ADJUNTO À ___ VARA...</td>\n",
              "      <td>auxilio_emergencial</td>\n",
              "    </tr>\n",
              "  </tbody>\n",
              "</table>\n",
              "</div>\n",
              "      <button class=\"colab-df-convert\" onclick=\"convertToInteractive('df-4a94cd5d-0299-46f8-b1f1-088c329a361d')\"\n",
              "              title=\"Convert this dataframe to an interactive table.\"\n",
              "              style=\"display:none;\">\n",
              "        \n",
              "  <svg xmlns=\"http://www.w3.org/2000/svg\" height=\"24px\"viewBox=\"0 0 24 24\"\n",
              "       width=\"24px\">\n",
              "    <path d=\"M0 0h24v24H0V0z\" fill=\"none\"/>\n",
              "    <path d=\"M18.56 5.44l.94 2.06.94-2.06 2.06-.94-2.06-.94-.94-2.06-.94 2.06-2.06.94zm-11 1L8.5 8.5l.94-2.06 2.06-.94-2.06-.94L8.5 2.5l-.94 2.06-2.06.94zm10 10l.94 2.06.94-2.06 2.06-.94-2.06-.94-.94-2.06-.94 2.06-2.06.94z\"/><path d=\"M17.41 7.96l-1.37-1.37c-.4-.4-.92-.59-1.43-.59-.52 0-1.04.2-1.43.59L10.3 9.45l-7.72 7.72c-.78.78-.78 2.05 0 2.83L4 21.41c.39.39.9.59 1.41.59.51 0 1.02-.2 1.41-.59l7.78-7.78 2.81-2.81c.8-.78.8-2.07 0-2.86zM5.41 20L4 18.59l7.72-7.72 1.47 1.35L5.41 20z\"/>\n",
              "  </svg>\n",
              "      </button>\n",
              "      \n",
              "  <style>\n",
              "    .colab-df-container {\n",
              "      display:flex;\n",
              "      flex-wrap:wrap;\n",
              "      gap: 12px;\n",
              "    }\n",
              "\n",
              "    .colab-df-convert {\n",
              "      background-color: #E8F0FE;\n",
              "      border: none;\n",
              "      border-radius: 50%;\n",
              "      cursor: pointer;\n",
              "      display: none;\n",
              "      fill: #1967D2;\n",
              "      height: 32px;\n",
              "      padding: 0 0 0 0;\n",
              "      width: 32px;\n",
              "    }\n",
              "\n",
              "    .colab-df-convert:hover {\n",
              "      background-color: #E2EBFA;\n",
              "      box-shadow: 0px 1px 2px rgba(60, 64, 67, 0.3), 0px 1px 3px 1px rgba(60, 64, 67, 0.15);\n",
              "      fill: #174EA6;\n",
              "    }\n",
              "\n",
              "    [theme=dark] .colab-df-convert {\n",
              "      background-color: #3B4455;\n",
              "      fill: #D2E3FC;\n",
              "    }\n",
              "\n",
              "    [theme=dark] .colab-df-convert:hover {\n",
              "      background-color: #434B5C;\n",
              "      box-shadow: 0px 1px 3px 1px rgba(0, 0, 0, 0.15);\n",
              "      filter: drop-shadow(0px 1px 2px rgba(0, 0, 0, 0.3));\n",
              "      fill: #FFFFFF;\n",
              "    }\n",
              "  </style>\n",
              "\n",
              "      <script>\n",
              "        const buttonEl =\n",
              "          document.querySelector('#df-4a94cd5d-0299-46f8-b1f1-088c329a361d button.colab-df-convert');\n",
              "        buttonEl.style.display =\n",
              "          google.colab.kernel.accessAllowed ? 'block' : 'none';\n",
              "\n",
              "        async function convertToInteractive(key) {\n",
              "          const element = document.querySelector('#df-4a94cd5d-0299-46f8-b1f1-088c329a361d');\n",
              "          const dataTable =\n",
              "            await google.colab.kernel.invokeFunction('convertToInteractive',\n",
              "                                                     [key], {});\n",
              "          if (!dataTable) return;\n",
              "\n",
              "          const docLinkHtml = 'Like what you see? Visit the ' +\n",
              "            '<a target=\"_blank\" href=https://colab.research.google.com/notebooks/data_table.ipynb>data table notebook</a>'\n",
              "            + ' to learn more about interactive tables.';\n",
              "          element.innerHTML = '';\n",
              "          dataTable['output_type'] = 'display_data';\n",
              "          await google.colab.output.renderOutput(dataTable, element);\n",
              "          const docLink = document.createElement('div');\n",
              "          docLink.innerHTML = docLinkHtml;\n",
              "          element.appendChild(docLink);\n",
              "        }\n",
              "      </script>\n",
              "    </div>\n",
              "  </div>\n",
              "  "
            ]
          },
          "metadata": {},
          "execution_count": 8
        }
      ]
    },
    {
      "cell_type": "code",
      "source": [
        "df_peticoes_iniciais.dtypes"
      ],
      "metadata": {
        "colab": {
          "base_uri": "https://localhost:8080/"
        },
        "id": "RR6RBDl6k5Ba",
        "outputId": "f8d2f3c1-a484-417b-e754-94f3f6f0778b"
      },
      "execution_count": null,
      "outputs": [
        {
          "output_type": "execute_result",
          "data": {
            "text/plain": [
              "nome_documento      object\n",
              "conteudo_peticao    object\n",
              "classificacao       object\n",
              "dtype: object"
            ]
          },
          "metadata": {},
          "execution_count": 9
        }
      ]
    },
    {
      "cell_type": "code",
      "source": [
        "# Verificando a distribuição de classe\n",
        "\n",
        "print(df_peticoes_iniciais['classificacao'].value_counts())"
      ],
      "metadata": {
        "colab": {
          "base_uri": "https://localhost:8080/"
        },
        "id": "KZmvBR_U71-c",
        "outputId": "fa1a8933-c9ea-4f62-af62-93f25ad53e2b"
      },
      "execution_count": null,
      "outputs": [
        {
          "output_type": "stream",
          "name": "stdout",
          "text": [
            "benef_assist_loas                   65\n",
            "salario_maternidade_rural           55\n",
            "aposent_especial                    51\n",
            "aposen_idade_rural                  46\n",
            "pensao_p_morte                      35\n",
            "aux_doenca_aposent_invalidez        33\n",
            "revisional_fgts                     29\n",
            "aposentadoria_idade_urbana          26\n",
            "acao_cobranca_dpvat                 26\n",
            "auxilio_reclusao                    25\n",
            "salario_maternidade_urbana          25\n",
            "prev_pagas_alem_do_teto             23\n",
            "auxilio_doenca                      21\n",
            "aposentadoria_tempo_contribuicao    21\n",
            "auxilio_emergencial                 20\n",
            "fornecimento_medicamentos           20\n",
            "Name: classificacao, dtype: int64\n"
          ]
        }
      ]
    },
    {
      "cell_type": "markdown",
      "source": [
        "Nossa variável alvo, a classificação, é uma variável categórica. Se a submetermos dessa forma no nosso algoritmo de machine learning, receberemos um erro. Para ser entendido por nosso modelo, precisamos atribuir um valor para cada classe. "
      ],
      "metadata": {
        "id": "dTnNQswTstfX"
      }
    },
    {
      "cell_type": "code",
      "source": [
        "# Lista de assuntos processuais sem repetição\n",
        "classificacao_peticoes = df_peticoes_iniciais['classificacao'].unique()\n",
        "\n",
        "# Criar dicionário python e atribuir um número unico a cada assunto processual\n",
        "classificacao_peticoes_dicionario = {}\n",
        "var = 0\n",
        "for tipo_peticao in classificacao_peticoes:\n",
        "  classificacao_peticoes_dicionario[tipo_peticao] = var\n",
        "  var +=1\n",
        "\n",
        "# criação de uma label com a classe assunto defida por números\n",
        "df_peticoes_iniciais['label_num'] = df_peticoes_iniciais['classificacao'].map(\n",
        "    classificacao_peticoes_dicionario\n",
        ")\n",
        "\n",
        "label_ordinal_encoding = df_peticoes_iniciais[['classificacao','label_num']]\n",
        "label_ordinal_encoding\n"
      ],
      "metadata": {
        "colab": {
          "base_uri": "https://localhost:8080/"
        },
        "id": "5sU0EbE4gfaW",
        "outputId": "60f637f0-6206-4c16-8de2-13ef6b6c1968"
      },
      "execution_count": null,
      "outputs": [
        {
          "output_type": "execute_result",
          "data": {
            "text/plain": [
              "           classificacao  label_num\n",
              "0    auxilio_emergencial          0\n",
              "1    auxilio_emergencial          0\n",
              "2    auxilio_emergencial          0\n",
              "3    auxilio_emergencial          0\n",
              "4    auxilio_emergencial          0\n",
              "..                   ...        ...\n",
              "516    benef_assist_loas         15\n",
              "517    benef_assist_loas         15\n",
              "518    benef_assist_loas         15\n",
              "519    benef_assist_loas         15\n",
              "520    benef_assist_loas         15\n",
              "\n",
              "[521 rows x 2 columns]"
            ],
            "text/html": [
              "\n",
              "  <div id=\"df-e6c1d5ee-5b4f-4e31-bd61-8b7a85e1dfc3\">\n",
              "    <div class=\"colab-df-container\">\n",
              "      <div>\n",
              "<style scoped>\n",
              "    .dataframe tbody tr th:only-of-type {\n",
              "        vertical-align: middle;\n",
              "    }\n",
              "\n",
              "    .dataframe tbody tr th {\n",
              "        vertical-align: top;\n",
              "    }\n",
              "\n",
              "    .dataframe thead th {\n",
              "        text-align: right;\n",
              "    }\n",
              "</style>\n",
              "<table border=\"1\" class=\"dataframe\">\n",
              "  <thead>\n",
              "    <tr style=\"text-align: right;\">\n",
              "      <th></th>\n",
              "      <th>classificacao</th>\n",
              "      <th>label_num</th>\n",
              "    </tr>\n",
              "  </thead>\n",
              "  <tbody>\n",
              "    <tr>\n",
              "      <th>0</th>\n",
              "      <td>auxilio_emergencial</td>\n",
              "      <td>0</td>\n",
              "    </tr>\n",
              "    <tr>\n",
              "      <th>1</th>\n",
              "      <td>auxilio_emergencial</td>\n",
              "      <td>0</td>\n",
              "    </tr>\n",
              "    <tr>\n",
              "      <th>2</th>\n",
              "      <td>auxilio_emergencial</td>\n",
              "      <td>0</td>\n",
              "    </tr>\n",
              "    <tr>\n",
              "      <th>3</th>\n",
              "      <td>auxilio_emergencial</td>\n",
              "      <td>0</td>\n",
              "    </tr>\n",
              "    <tr>\n",
              "      <th>4</th>\n",
              "      <td>auxilio_emergencial</td>\n",
              "      <td>0</td>\n",
              "    </tr>\n",
              "    <tr>\n",
              "      <th>...</th>\n",
              "      <td>...</td>\n",
              "      <td>...</td>\n",
              "    </tr>\n",
              "    <tr>\n",
              "      <th>516</th>\n",
              "      <td>benef_assist_loas</td>\n",
              "      <td>15</td>\n",
              "    </tr>\n",
              "    <tr>\n",
              "      <th>517</th>\n",
              "      <td>benef_assist_loas</td>\n",
              "      <td>15</td>\n",
              "    </tr>\n",
              "    <tr>\n",
              "      <th>518</th>\n",
              "      <td>benef_assist_loas</td>\n",
              "      <td>15</td>\n",
              "    </tr>\n",
              "    <tr>\n",
              "      <th>519</th>\n",
              "      <td>benef_assist_loas</td>\n",
              "      <td>15</td>\n",
              "    </tr>\n",
              "    <tr>\n",
              "      <th>520</th>\n",
              "      <td>benef_assist_loas</td>\n",
              "      <td>15</td>\n",
              "    </tr>\n",
              "  </tbody>\n",
              "</table>\n",
              "<p>521 rows × 2 columns</p>\n",
              "</div>\n",
              "      <button class=\"colab-df-convert\" onclick=\"convertToInteractive('df-e6c1d5ee-5b4f-4e31-bd61-8b7a85e1dfc3')\"\n",
              "              title=\"Convert this dataframe to an interactive table.\"\n",
              "              style=\"display:none;\">\n",
              "        \n",
              "  <svg xmlns=\"http://www.w3.org/2000/svg\" height=\"24px\"viewBox=\"0 0 24 24\"\n",
              "       width=\"24px\">\n",
              "    <path d=\"M0 0h24v24H0V0z\" fill=\"none\"/>\n",
              "    <path d=\"M18.56 5.44l.94 2.06.94-2.06 2.06-.94-2.06-.94-.94-2.06-.94 2.06-2.06.94zm-11 1L8.5 8.5l.94-2.06 2.06-.94-2.06-.94L8.5 2.5l-.94 2.06-2.06.94zm10 10l.94 2.06.94-2.06 2.06-.94-2.06-.94-.94-2.06-.94 2.06-2.06.94z\"/><path d=\"M17.41 7.96l-1.37-1.37c-.4-.4-.92-.59-1.43-.59-.52 0-1.04.2-1.43.59L10.3 9.45l-7.72 7.72c-.78.78-.78 2.05 0 2.83L4 21.41c.39.39.9.59 1.41.59.51 0 1.02-.2 1.41-.59l7.78-7.78 2.81-2.81c.8-.78.8-2.07 0-2.86zM5.41 20L4 18.59l7.72-7.72 1.47 1.35L5.41 20z\"/>\n",
              "  </svg>\n",
              "      </button>\n",
              "      \n",
              "  <style>\n",
              "    .colab-df-container {\n",
              "      display:flex;\n",
              "      flex-wrap:wrap;\n",
              "      gap: 12px;\n",
              "    }\n",
              "\n",
              "    .colab-df-convert {\n",
              "      background-color: #E8F0FE;\n",
              "      border: none;\n",
              "      border-radius: 50%;\n",
              "      cursor: pointer;\n",
              "      display: none;\n",
              "      fill: #1967D2;\n",
              "      height: 32px;\n",
              "      padding: 0 0 0 0;\n",
              "      width: 32px;\n",
              "    }\n",
              "\n",
              "    .colab-df-convert:hover {\n",
              "      background-color: #E2EBFA;\n",
              "      box-shadow: 0px 1px 2px rgba(60, 64, 67, 0.3), 0px 1px 3px 1px rgba(60, 64, 67, 0.15);\n",
              "      fill: #174EA6;\n",
              "    }\n",
              "\n",
              "    [theme=dark] .colab-df-convert {\n",
              "      background-color: #3B4455;\n",
              "      fill: #D2E3FC;\n",
              "    }\n",
              "\n",
              "    [theme=dark] .colab-df-convert:hover {\n",
              "      background-color: #434B5C;\n",
              "      box-shadow: 0px 1px 3px 1px rgba(0, 0, 0, 0.15);\n",
              "      filter: drop-shadow(0px 1px 2px rgba(0, 0, 0, 0.3));\n",
              "      fill: #FFFFFF;\n",
              "    }\n",
              "  </style>\n",
              "\n",
              "      <script>\n",
              "        const buttonEl =\n",
              "          document.querySelector('#df-e6c1d5ee-5b4f-4e31-bd61-8b7a85e1dfc3 button.colab-df-convert');\n",
              "        buttonEl.style.display =\n",
              "          google.colab.kernel.accessAllowed ? 'block' : 'none';\n",
              "\n",
              "        async function convertToInteractive(key) {\n",
              "          const element = document.querySelector('#df-e6c1d5ee-5b4f-4e31-bd61-8b7a85e1dfc3');\n",
              "          const dataTable =\n",
              "            await google.colab.kernel.invokeFunction('convertToInteractive',\n",
              "                                                     [key], {});\n",
              "          if (!dataTable) return;\n",
              "\n",
              "          const docLinkHtml = 'Like what you see? Visit the ' +\n",
              "            '<a target=\"_blank\" href=https://colab.research.google.com/notebooks/data_table.ipynb>data table notebook</a>'\n",
              "            + ' to learn more about interactive tables.';\n",
              "          element.innerHTML = '';\n",
              "          dataTable['output_type'] = 'display_data';\n",
              "          await google.colab.output.renderOutput(dataTable, element);\n",
              "          const docLink = document.createElement('div');\n",
              "          docLink.innerHTML = docLinkHtml;\n",
              "          element.appendChild(docLink);\n",
              "        }\n",
              "      </script>\n",
              "    </div>\n",
              "  </div>\n",
              "  "
            ]
          },
          "metadata": {},
          "execution_count": 11
        }
      ]
    },
    {
      "cell_type": "code",
      "source": [
        "classificacao_peticoes_dicionario"
      ],
      "metadata": {
        "colab": {
          "base_uri": "https://localhost:8080/"
        },
        "id": "ehcNfy1RdG5g",
        "outputId": "dfc7ffc7-b27b-4e3f-af95-2f91bb7adc70"
      },
      "execution_count": null,
      "outputs": [
        {
          "output_type": "execute_result",
          "data": {
            "text/plain": [
              "{'auxilio_emergencial': 0,\n",
              " 'fornecimento_medicamentos': 1,\n",
              " 'auxilio_doenca': 2,\n",
              " 'aposentadoria_idade_urbana': 3,\n",
              " 'prev_pagas_alem_do_teto': 4,\n",
              " 'aposentadoria_tempo_contribuicao': 5,\n",
              " 'auxilio_reclusao': 6,\n",
              " 'salario_maternidade_urbana': 7,\n",
              " 'acao_cobranca_dpvat': 8,\n",
              " 'revisional_fgts': 9,\n",
              " 'aux_doenca_aposent_invalidez': 10,\n",
              " 'pensao_p_morte': 11,\n",
              " 'aposen_idade_rural': 12,\n",
              " 'aposent_especial': 13,\n",
              " 'salario_maternidade_rural': 14,\n",
              " 'benef_assist_loas': 15}"
            ]
          },
          "metadata": {},
          "execution_count": 12
        }
      ]
    },
    {
      "cell_type": "markdown",
      "source": [
        "Aqui, nós fazemos um tratamento para limpar um pouco o texto de possíveis elementos que não seja do nosso interesse. Nós removemos um conjunto de palavras conhecido como stopwords, retiramos os vários espaços em branco dos textos, caracteres especiais, e fazemos algumas substituições. \n",
        "\n",
        "Outra coisa, também que fazemos, é retirar o cabeçalho e o rodapé, que pode causar algum tipo de viés caso tivermos muitas petições feitas de um escritório de advocacia em particular. \n",
        "\n",
        "Por último e não menos importante, fazemos a stematização dos termos, reduzindo a sua forma em radical, em que palavras como “juiz”, “juízes” e “juízas” serão contabilizadas como apenas uma, seu radical, “juiz”.\n"
      ],
      "metadata": {
        "id": "e3pMdFIOxuip"
      }
    },
    {
      "cell_type": "code",
      "source": [
        "# Função para limpar algumas sujeitas do texto\n",
        "def clean_text(text):\n",
        "  text = str(text).lower()\n",
        "  text = re.sub('https?://\\S+|www\\.\\S+', 'webaddress', text) # Substitui URLs por 'webdress'\n",
        "  text = re.sub('^.+@[^\\.].*\\.[a-z]{2,}$', 'emailaddress', text) # Substitui os endereços de e-mail por 'emailaddress'\n",
        "  text = re.sub('£|\\$|r\\$', 'moneysymb', text) # Substitui os símbolos de dinheiro por 'moneysymb' \n",
        "  text = re.sub('^\\(?[\\d]{2}\\)?[\\s-]?[\\d]{3}[\\s-]?[\\d]{4}$', 'phonenumbr', text) # Substitui números de telefone de 10 dígitos (os formatos incluem parênteses, espaços, sem espaços, traços) por 'phonenumber'\n",
        "  text = re.sub('\\d+(\\.\\d+)?', '', text) # Substitua os números por 'numbr'\n",
        "  text = re.sub('_{1,}', ' ', text) #Substitua os '_' por ' '\n",
        "  text = re.sub('[^\\w\\d\\s]', ' ', text) # Remover pontuação\n",
        "  text = re.sub('\\s+', ' ', text) # Substitui o espaço em branco entre os termos por um único espaço\n",
        "  text = re.sub('^\\s+|\\s+?$', '', text) # Remova os espaços em branco iniciais e finais\n",
        "  return text\n",
        "\n",
        "\n",
        "# Remove as stopwords\n",
        "def remove_stopwords(text):\n",
        "  text = ' '.join(word for word in text.split(' ') if ((word not in stopwords) and (len(word) > 2 )))  # retira stopwords e palavras com menos de 3 letras\n",
        "  return text\n",
        "\n",
        "\n",
        "# Função de stematizar o texto, deixando as palavras somente com radicais\n",
        "def stemming(text):\n",
        "    palavras=[]\n",
        "    for w in text.split():\n",
        "        palavras.append(stemmer.stem(w))\n",
        "    return (\" \".join(palavras))\n",
        "\n",
        "\n",
        "# Função de remover cabeçalho e rodapé\n",
        "def remove_header_footer(input_data):\n",
        "    '''\n",
        "        Remoção dos cabeçalhos e rodapé do texto da petição\n",
        "    '''\n",
        "    #Verifica se a entrada em uma string ou uma lista\n",
        "    if isinstance(input_data, str) == False:\n",
        "        return 'Entrada não é uma str'\n",
        "    \n",
        "    list_of_pages = [input_data]\n",
        "\n",
        "    # Dividi o texto em cada quebra de linha '\\n'\n",
        "    input_split = [\n",
        "        p.split(\"\\n\") for p in list_of_pages\n",
        "    ]\n",
        "    #Removendo espaços em branco extras\n",
        "    for i in range(len(input_split)):\n",
        "        input_split[i] = list(map(str.strip, input_split[i]))\n",
        "\n",
        "\n",
        "    #Contar o numero de ocorrencia de cada linha\n",
        "    counts = {}\n",
        "    for i in input_split[0]:\n",
        "        counts[i] = counts.get(i, 0) + 1\n",
        "    commum_lines = [key for key, value in counts.items() if value >= 2]\n",
        "\n",
        "    input_split_fixed = []\n",
        "\n",
        "    for page in input_split:\n",
        "        text = [i for i in page if i not in commum_lines]\n",
        "        input_split_fixed.append(\"\\n\".join(text))\n",
        "\n",
        "    return '\\n'.join(input_split_fixed)"
      ],
      "metadata": {
        "id": "a32vXAOh0IMb"
      },
      "execution_count": null,
      "outputs": []
    },
    {
      "cell_type": "code",
      "source": [
        "# Aplicação de cada função em cada texto do dataFrame\n",
        "df_peticoes_iniciais['text_clean'] = df_peticoes_iniciais['conteudo_peticao'].apply(remove_header_footer)\n",
        "\n",
        "df_peticoes_iniciais['text_clean'] = df_peticoes_iniciais['text_clean'].apply(clean_text)\n",
        "\n",
        "df_peticoes_iniciais['text_clean'] = df_peticoes_iniciais['text_clean'].apply(remove_stopwords)\n",
        "\n",
        "df_peticoes_iniciais['text_clean'] = df_peticoes_iniciais['text_clean'].apply(stemming)"
      ],
      "metadata": {
        "id": "y087_BXE15a7"
      },
      "execution_count": null,
      "outputs": []
    },
    {
      "cell_type": "code",
      "source": [
        "# Imprime a coluna do conteudo da petição e a coluna do texto limpo já tratado e pronto para treino\n",
        "df_peticoes_iniciais[['conteudo_peticao', 'text_clean']] "
      ],
      "metadata": {
        "colab": {
          "base_uri": "https://localhost:8080/"
        },
        "id": "ID9L3Nq023yE",
        "outputId": "80ca83cd-291b-4f8e-c3d0-153819b10f0f"
      },
      "execution_count": null,
      "outputs": [
        {
          "output_type": "execute_result",
          "data": {
            "text/plain": [
              "                                      conteudo_peticao  \\\n",
              "0                            DEFENSORIA PÚBLICA DA ...   \n",
              "1                                             \\n\\n\\n\\n   \n",
              "2    AO JUIZADO ESPECIAL FEDERAL ADJUNTO À ___ VARA...   \n",
              "3                  Justiça Federal da 5ª Região\\n  ...   \n",
              "4    EXCELENTÍSSIMO(A) SENHOR(A) DOUTOR(A) JUIZ(A) ...   \n",
              "..                                                 ...   \n",
              "516  MM. JUÍZO DA 31ª VARA FEDERAL DA 5ª REGIÃO, CO...   \n",
              "517  AO JUÍZO DA 27ª VARA DO JUIZADO ESPECIAL FEDER...   \n",
              "518                Justiça Federal da 5ª Região\\n  ...   \n",
              "519                Justiça Federal da 5ª Região\\n  ...   \n",
              "520  EXCELENTÍSSIMO DOUTOR JUIZ FEDERAL DO JUIZADO ...   \n",
              "\n",
              "                                            text_clean  \n",
              "0    mo soró paj dpu rozelb pint cost solt desempre...  \n",
              "1                                                       \n",
              "2    adjunt petrolin juni menez silv brasil solt de...  \n",
              "3    eletrôn númer julg últ val caus moneysymb assu...  \n",
              "4    pequen caus palm céli silv cavalcant brasil ca...  \n",
              "..                                                 ...  \n",
              "516  comarc caruaru pernambuc jos alv silv brasil c...  \n",
              "517  subsecç ouricur pernambuc antoni mont net bras...  \n",
              "518  eletrôn númer julg últ val caus moneysymb assu...  \n",
              "519  eletrôn númer julg últ val caus moneysymb assu...  \n",
              "520  virtual secç caruaru pernambuc anderson antôni...  \n",
              "\n",
              "[521 rows x 2 columns]"
            ],
            "text/html": [
              "\n",
              "  <div id=\"df-f7d413a6-0a88-4916-999b-c4ba33a894df\">\n",
              "    <div class=\"colab-df-container\">\n",
              "      <div>\n",
              "<style scoped>\n",
              "    .dataframe tbody tr th:only-of-type {\n",
              "        vertical-align: middle;\n",
              "    }\n",
              "\n",
              "    .dataframe tbody tr th {\n",
              "        vertical-align: top;\n",
              "    }\n",
              "\n",
              "    .dataframe thead th {\n",
              "        text-align: right;\n",
              "    }\n",
              "</style>\n",
              "<table border=\"1\" class=\"dataframe\">\n",
              "  <thead>\n",
              "    <tr style=\"text-align: right;\">\n",
              "      <th></th>\n",
              "      <th>conteudo_peticao</th>\n",
              "      <th>text_clean</th>\n",
              "    </tr>\n",
              "  </thead>\n",
              "  <tbody>\n",
              "    <tr>\n",
              "      <th>0</th>\n",
              "      <td>DEFENSORIA PÚBLICA DA ...</td>\n",
              "      <td>mo soró paj dpu rozelb pint cost solt desempre...</td>\n",
              "    </tr>\n",
              "    <tr>\n",
              "      <th>1</th>\n",
              "      <td>\\n\\n\\n\\n</td>\n",
              "      <td></td>\n",
              "    </tr>\n",
              "    <tr>\n",
              "      <th>2</th>\n",
              "      <td>AO JUIZADO ESPECIAL FEDERAL ADJUNTO À ___ VARA...</td>\n",
              "      <td>adjunt petrolin juni menez silv brasil solt de...</td>\n",
              "    </tr>\n",
              "    <tr>\n",
              "      <th>3</th>\n",
              "      <td>Justiça Federal da 5ª Região\\n  ...</td>\n",
              "      <td>eletrôn númer julg últ val caus moneysymb assu...</td>\n",
              "    </tr>\n",
              "    <tr>\n",
              "      <th>4</th>\n",
              "      <td>EXCELENTÍSSIMO(A) SENHOR(A) DOUTOR(A) JUIZ(A) ...</td>\n",
              "      <td>pequen caus palm céli silv cavalcant brasil ca...</td>\n",
              "    </tr>\n",
              "    <tr>\n",
              "      <th>...</th>\n",
              "      <td>...</td>\n",
              "      <td>...</td>\n",
              "    </tr>\n",
              "    <tr>\n",
              "      <th>516</th>\n",
              "      <td>MM. JUÍZO DA 31ª VARA FEDERAL DA 5ª REGIÃO, CO...</td>\n",
              "      <td>comarc caruaru pernambuc jos alv silv brasil c...</td>\n",
              "    </tr>\n",
              "    <tr>\n",
              "      <th>517</th>\n",
              "      <td>AO JUÍZO DA 27ª VARA DO JUIZADO ESPECIAL FEDER...</td>\n",
              "      <td>subsecç ouricur pernambuc antoni mont net bras...</td>\n",
              "    </tr>\n",
              "    <tr>\n",
              "      <th>518</th>\n",
              "      <td>Justiça Federal da 5ª Região\\n  ...</td>\n",
              "      <td>eletrôn númer julg últ val caus moneysymb assu...</td>\n",
              "    </tr>\n",
              "    <tr>\n",
              "      <th>519</th>\n",
              "      <td>Justiça Federal da 5ª Região\\n  ...</td>\n",
              "      <td>eletrôn númer julg últ val caus moneysymb assu...</td>\n",
              "    </tr>\n",
              "    <tr>\n",
              "      <th>520</th>\n",
              "      <td>EXCELENTÍSSIMO DOUTOR JUIZ FEDERAL DO JUIZADO ...</td>\n",
              "      <td>virtual secç caruaru pernambuc anderson antôni...</td>\n",
              "    </tr>\n",
              "  </tbody>\n",
              "</table>\n",
              "<p>521 rows × 2 columns</p>\n",
              "</div>\n",
              "      <button class=\"colab-df-convert\" onclick=\"convertToInteractive('df-f7d413a6-0a88-4916-999b-c4ba33a894df')\"\n",
              "              title=\"Convert this dataframe to an interactive table.\"\n",
              "              style=\"display:none;\">\n",
              "        \n",
              "  <svg xmlns=\"http://www.w3.org/2000/svg\" height=\"24px\"viewBox=\"0 0 24 24\"\n",
              "       width=\"24px\">\n",
              "    <path d=\"M0 0h24v24H0V0z\" fill=\"none\"/>\n",
              "    <path d=\"M18.56 5.44l.94 2.06.94-2.06 2.06-.94-2.06-.94-.94-2.06-.94 2.06-2.06.94zm-11 1L8.5 8.5l.94-2.06 2.06-.94-2.06-.94L8.5 2.5l-.94 2.06-2.06.94zm10 10l.94 2.06.94-2.06 2.06-.94-2.06-.94-.94-2.06-.94 2.06-2.06.94z\"/><path d=\"M17.41 7.96l-1.37-1.37c-.4-.4-.92-.59-1.43-.59-.52 0-1.04.2-1.43.59L10.3 9.45l-7.72 7.72c-.78.78-.78 2.05 0 2.83L4 21.41c.39.39.9.59 1.41.59.51 0 1.02-.2 1.41-.59l7.78-7.78 2.81-2.81c.8-.78.8-2.07 0-2.86zM5.41 20L4 18.59l7.72-7.72 1.47 1.35L5.41 20z\"/>\n",
              "  </svg>\n",
              "      </button>\n",
              "      \n",
              "  <style>\n",
              "    .colab-df-container {\n",
              "      display:flex;\n",
              "      flex-wrap:wrap;\n",
              "      gap: 12px;\n",
              "    }\n",
              "\n",
              "    .colab-df-convert {\n",
              "      background-color: #E8F0FE;\n",
              "      border: none;\n",
              "      border-radius: 50%;\n",
              "      cursor: pointer;\n",
              "      display: none;\n",
              "      fill: #1967D2;\n",
              "      height: 32px;\n",
              "      padding: 0 0 0 0;\n",
              "      width: 32px;\n",
              "    }\n",
              "\n",
              "    .colab-df-convert:hover {\n",
              "      background-color: #E2EBFA;\n",
              "      box-shadow: 0px 1px 2px rgba(60, 64, 67, 0.3), 0px 1px 3px 1px rgba(60, 64, 67, 0.15);\n",
              "      fill: #174EA6;\n",
              "    }\n",
              "\n",
              "    [theme=dark] .colab-df-convert {\n",
              "      background-color: #3B4455;\n",
              "      fill: #D2E3FC;\n",
              "    }\n",
              "\n",
              "    [theme=dark] .colab-df-convert:hover {\n",
              "      background-color: #434B5C;\n",
              "      box-shadow: 0px 1px 3px 1px rgba(0, 0, 0, 0.15);\n",
              "      filter: drop-shadow(0px 1px 2px rgba(0, 0, 0, 0.3));\n",
              "      fill: #FFFFFF;\n",
              "    }\n",
              "  </style>\n",
              "\n",
              "      <script>\n",
              "        const buttonEl =\n",
              "          document.querySelector('#df-f7d413a6-0a88-4916-999b-c4ba33a894df button.colab-df-convert');\n",
              "        buttonEl.style.display =\n",
              "          google.colab.kernel.accessAllowed ? 'block' : 'none';\n",
              "\n",
              "        async function convertToInteractive(key) {\n",
              "          const element = document.querySelector('#df-f7d413a6-0a88-4916-999b-c4ba33a894df');\n",
              "          const dataTable =\n",
              "            await google.colab.kernel.invokeFunction('convertToInteractive',\n",
              "                                                     [key], {});\n",
              "          if (!dataTable) return;\n",
              "\n",
              "          const docLinkHtml = 'Like what you see? Visit the ' +\n",
              "            '<a target=\"_blank\" href=https://colab.research.google.com/notebooks/data_table.ipynb>data table notebook</a>'\n",
              "            + ' to learn more about interactive tables.';\n",
              "          element.innerHTML = '';\n",
              "          dataTable['output_type'] = 'display_data';\n",
              "          await google.colab.output.renderOutput(dataTable, element);\n",
              "          const docLink = document.createElement('div');\n",
              "          docLink.innerHTML = docLinkHtml;\n",
              "          element.appendChild(docLink);\n",
              "        }\n",
              "      </script>\n",
              "    </div>\n",
              "  </div>\n",
              "  "
            ]
          },
          "metadata": {},
          "execution_count": 15
        }
      ]
    },
    {
      "cell_type": "markdown",
      "source": [
        "## **Train test split** <img src=\"https://cdn-icons-png.flaticon.com/512/1610/1610654.png\" width=\"3%\">"
      ],
      "metadata": {
        "id": "3-5w864Lr_MM"
      }
    },
    {
      "cell_type": "markdown",
      "source": [
        "Agora, vamos separar os dados de treino e os dados de teste. Para isso, usei a função train_test_split da biblioteca scikit-learn, uma das mais famosas no ambito de Machine Learning. Separando a base de treino e de teste, configurei o test size em 20%, ou seja, 80% do dataset será utilizado para o algorítimo aprender e 20% para testar o quão esse algorítimo aprendeu de fato."
      ],
      "metadata": {
        "id": "mzhcMOjp0aND"
      }
    },
    {
      "cell_type": "code",
      "source": [
        "X= df_peticoes_iniciais.text_clean\n",
        "y= df_peticoes_iniciais.label_num"
      ],
      "metadata": {
        "id": "ihaFULXRsmjN"
      },
      "execution_count": null,
      "outputs": []
    },
    {
      "cell_type": "code",
      "source": [
        "# Separa os dados de treino e de teste\n",
        "\n",
        "\n",
        "X_train, X_test, y_train, y_test = train_test_split(\n",
        "    X, y, \n",
        "    test_size=0.20, # 20% de dados de teste\n",
        "    random_state=42,\n",
        "    stratify=df_peticoes_iniciais.label_num\n",
        ")"
      ],
      "metadata": {
        "id": "uaRlG-07sJ4m"
      },
      "execution_count": null,
      "outputs": []
    },
    {
      "cell_type": "code",
      "source": [
        "# Imprime o shape \n",
        "print(\"X_train:\", X_train.shape)\n",
        "\n",
        "print(\"X_test:\", X_test.shape)\n",
        "\n",
        "print(\"y_train:\", y_train.shape)\n",
        "\n",
        "print(\"y_test:\", y_test.shape)\n",
        "\n",
        "print(\"df_peticoes_iniciais:\", X.shape)\n",
        "\n",
        "print(\"df_peticoes_iniciais.label_num:\",y.shape)\n"
      ],
      "metadata": {
        "colab": {
          "base_uri": "https://localhost:8080/"
        },
        "id": "6w9bZMahLU9W",
        "outputId": "d5709df2-e9a6-4bc2-84d3-e55b63280893"
      },
      "execution_count": null,
      "outputs": [
        {
          "output_type": "stream",
          "name": "stdout",
          "text": [
            "X_train: (416,)\n",
            "X_test: (105,)\n",
            "y_train: (416,)\n",
            "y_test: (105,)\n",
            "df_peticoes_iniciais: (521,)\n",
            "df_peticoes_iniciais.label_num: (521,)\n"
          ]
        }
      ]
    },
    {
      "cell_type": "code",
      "source": [
        "print(\"Shape of X_train: \", X_train.shape)\n",
        "print(\"Shape of X_test: \", X_test.shape)\n",
        "\n",
        "print(\"Shape of y_train: \", X_train.shape)\n",
        "print(\"Shape of y_test: \", X_test.shape)"
      ],
      "metadata": {
        "colab": {
          "base_uri": "https://localhost:8080/"
        },
        "id": "3hKPQUKMsdiv",
        "outputId": "1d5732ea-76d1-4583-d872-293388b91027"
      },
      "execution_count": null,
      "outputs": [
        {
          "output_type": "stream",
          "name": "stdout",
          "text": [
            "Shape of X_train:  (416,)\n",
            "Shape of X_test:  (105,)\n",
            "Shape of y_train:  (416,)\n",
            "Shape of y_test:  (105,)\n"
          ]
        }
      ]
    },
    {
      "cell_type": "code",
      "source": [
        "# imprime a quantidade de dados para treino\n",
        "y_train.value_counts()/ y_train.shape[0]\n",
        "y_train.value_counts()"
      ],
      "metadata": {
        "colab": {
          "base_uri": "https://localhost:8080/"
        },
        "id": "fHrYkKjx9zZ8",
        "outputId": "a3f3040f-e741-4694-82c6-c8d0d03a3359"
      },
      "execution_count": null,
      "outputs": [
        {
          "output_type": "execute_result",
          "data": {
            "text/plain": [
              "15    52\n",
              "14    44\n",
              "13    40\n",
              "12    37\n",
              "11    28\n",
              "10    26\n",
              "9     23\n",
              "3     21\n",
              "8     21\n",
              "7     20\n",
              "6     20\n",
              "4     18\n",
              "5     17\n",
              "2     17\n",
              "1     16\n",
              "0     16\n",
              "Name: label_num, dtype: int64"
            ]
          },
          "metadata": {},
          "execution_count": 20
        }
      ]
    },
    {
      "cell_type": "code",
      "source": [
        "print(\"df_peticoes_iniciais:\\t\\t\",df_peticoes_iniciais.shape)\n",
        "\n",
        "print(\"X_train:\\t\\t\",X_train.shape)\n",
        "\n",
        "print(\"y_train:\\t\\t\",y_train.shape)\n",
        "\n",
        "print(\"X_train (reshape):\\t\",X_train.values.reshape(-1,1).shape)\n",
        "\n"
      ],
      "metadata": {
        "colab": {
          "base_uri": "https://localhost:8080/"
        },
        "id": "X6SiXRBTDFSW",
        "outputId": "184dfc3f-45bf-4ea2-91a8-8d913b221759"
      },
      "execution_count": null,
      "outputs": [
        {
          "output_type": "stream",
          "name": "stdout",
          "text": [
            "df_peticoes_iniciais:\t\t (521, 5)\n",
            "X_train:\t\t (416,)\n",
            "y_train:\t\t (416,)\n",
            "X_train (reshape):\t (416, 1)\n"
          ]
        }
      ]
    },
    {
      "cell_type": "markdown",
      "source": [
        "Porém, como o dataset está desbalanceado, há uma tendência que o algorítimo aprenda mais sobre a classe majoritária que a classe minoritária. Isso, consequentemente, fará com que a classe majoritária tenha uma excelente acurácia, e a classe minoritária tenha uma acurácia bem ruim. \n",
        "\n",
        "Para resolver isso, vamos usar a técnica de undersampling, que consiste em pegar amostras aleatórias da classe majoritária e igualar em número a classe minoritária. Para isso, usamos a classe RandomUnderSampler do pacote imbalanced-learn."
      ],
      "metadata": {
        "id": "_CJCgDtK1UzR"
      }
    },
    {
      "cell_type": "code",
      "source": [
        "'''\n",
        "o scikit-learn espera duas coisas nesta etapa:\n",
        "\n",
        "-Que a variável X seja sempre um np.array com duas dimensões\n",
        "-Que a variável y seja sempre um np.array com uma dimensão\n",
        "\n",
        " Foi preciso mudar a dimensão do array para atender a condição acima, por isso foi usado o .reshape(-1,1).\n",
        "'''\n",
        "X_train = X_train.values.reshape(-1,1)"
      ],
      "metadata": {
        "id": "SPOJHLUbFD-r"
      },
      "execution_count": null,
      "outputs": []
    },
    {
      "cell_type": "code",
      "source": [
        "# Definindo o UnderSamplere e aplicando para o x e o y de treino\n",
        "rus = RandomUnderSampler(random_state=42)\n",
        "X_res, y_res = rus.fit_resample(X_train, y_train)\n",
        "\n",
        "print(y_res.value_counts())"
      ],
      "metadata": {
        "colab": {
          "base_uri": "https://localhost:8080/"
        },
        "id": "VHIuIH_696QU",
        "outputId": "7115b0f2-d7d2-44f5-ab92-ff4a256774fd"
      },
      "execution_count": null,
      "outputs": [
        {
          "output_type": "stream",
          "name": "stdout",
          "text": [
            "0     16\n",
            "1     16\n",
            "2     16\n",
            "3     16\n",
            "4     16\n",
            "5     16\n",
            "6     16\n",
            "7     16\n",
            "8     16\n",
            "9     16\n",
            "10    16\n",
            "11    16\n",
            "12    16\n",
            "13    16\n",
            "14    16\n",
            "15    16\n",
            "Name: label_num, dtype: int64\n"
          ]
        }
      ]
    },
    {
      "cell_type": "markdown",
      "source": [
        "\n",
        "\n",
        "Vale a pena ressaltar, esses dados que usamos o undersampling, será utilizado apenas para treinar nosso modelo, mas na hora de validar, usaremos os dados de validação normal. Se utilizarmos esses mesmos dados agora balanceados para fazer a validação, estaremos distorcendo a realidade, pois alguns assuntos tem uma ocorrência maior do que outros. "
      ],
      "metadata": {
        "id": "aeyoLwjS27Oo"
      }
    },
    {
      "cell_type": "code",
      "source": [
        "# print(X_res.value_counts())"
      ],
      "metadata": {
        "id": "mUfNYW7ushq5"
      },
      "execution_count": null,
      "outputs": []
    },
    {
      "cell_type": "code",
      "source": [
        "y_train.value_counts()"
      ],
      "metadata": {
        "colab": {
          "base_uri": "https://localhost:8080/"
        },
        "id": "kGjB7kSpslbs",
        "outputId": "fad82b4c-4f2d-4e98-dcda-6d1b481457d9"
      },
      "execution_count": null,
      "outputs": [
        {
          "output_type": "execute_result",
          "data": {
            "text/plain": [
              "15    52\n",
              "14    44\n",
              "13    40\n",
              "12    37\n",
              "11    28\n",
              "10    26\n",
              "9     23\n",
              "3     21\n",
              "8     21\n",
              "7     20\n",
              "6     20\n",
              "4     18\n",
              "5     17\n",
              "2     17\n",
              "1     16\n",
              "0     16\n",
              "Name: label_num, dtype: int64"
            ]
          },
          "metadata": {},
          "execution_count": 25
        }
      ]
    },
    {
      "cell_type": "code",
      "source": [
        "y_test.value_counts()"
      ],
      "metadata": {
        "colab": {
          "base_uri": "https://localhost:8080/"
        },
        "id": "gPiUv6uZsrvP",
        "outputId": "e93fdde4-aba3-42e2-fc22-3be1fb8db5c9"
      },
      "execution_count": null,
      "outputs": [
        {
          "output_type": "execute_result",
          "data": {
            "text/plain": [
              "15    13\n",
              "13    11\n",
              "14    11\n",
              "12     9\n",
              "11     7\n",
              "10     7\n",
              "9      6\n",
              "3      5\n",
              "6      5\n",
              "7      5\n",
              "8      5\n",
              "4      5\n",
              "1      4\n",
              "5      4\n",
              "0      4\n",
              "2      4\n",
              "Name: label_num, dtype: int64"
            ]
          },
          "metadata": {},
          "execution_count": 26
        }
      ]
    },
    {
      "cell_type": "markdown",
      "source": [
        "***\n",
        "## **Treinamento e Predição** <img src=\"https://cdn-icons-png.flaticon.com/512/3273/3273713.png\" width=\"3%\">\n",
        "***"
      ],
      "metadata": {
        "id": "OQrTSa2Hu3Yf"
      }
    },
    {
      "cell_type": "markdown",
      "source": [
        "### **Tentativa 1**: KNN\n",
        "\n",
        "Usando o módulo pipeline sklearn cria um pipeline de classificação para classificar as Petições. \n",
        "\n",
        "Foi usado TF-IDF para pré-processar o texto.\n",
        "\n",
        "Foi usado Unigram, Bigrams e trigrams.\n",
        "\n",
        "Foi usado **KNN** como o classificador"
      ],
      "metadata": {
        "id": "BuStG8vhs3Gr"
      }
    },
    {
      "cell_type": "code",
      "source": [
        "#1. Criar um objeto de pipeline\n",
        "pipeline_vizinhos_proximos = Pipeline([\n",
        "     ('vectorizer_tfidf',TfidfVectorizer(max_features=650, ngram_range = (1, 3))),    \n",
        "     ('KNN', KNeighborsClassifier(\n",
        "         n_neighbors=18, #weights='distance',\n",
        "         algorithm='kd_tree'\n",
        "     ))         \n",
        "])\n",
        "\n",
        "#2. Ajuste(fit) com X_train e y_train\n",
        "pipeline_vizinhos_proximos.fit(X_res.flatten(), y_res)\n",
        "\n",
        "\n",
        "#3. Obter previsões para X_test e armazenar em y_pred\n",
        "y_pred_vizinhosproximos = pipeline_vizinhos_proximos.predict(X_test)\n",
        "\n",
        "\n",
        "# imprimir relatório \n",
        "print(classification_report(y_test, y_pred_vizinhosproximos))\n",
        "\n",
        "\n",
        "# Imprime a matriz de confusão \n",
        "mat = confusion_matrix(y_test, y_pred_vizinhosproximos)\n",
        "\n",
        "sns.heatmap(mat.T,square=True,annot=True,fmt='d',cbar=False,\n",
        "            xticklabels=list(classificacao_peticoes_dicionario.keys()),yticklabels=list(classificacao_peticoes_dicionario.keys()))\n",
        "plt.xlabel('True Label')\n",
        "plt.ylabel(\"Predicted Label\")\n",
        "plt.show()"
      ],
      "metadata": {
        "colab": {
          "base_uri": "https://localhost:8080/",
          "height": 844
        },
        "id": "Fj5eDRgPs3aN",
        "outputId": "3523f657-7ebd-49a6-e481-8e42440da121"
      },
      "execution_count": null,
      "outputs": [
        {
          "output_type": "stream",
          "name": "stdout",
          "text": [
            "              precision    recall  f1-score   support\n",
            "\n",
            "           0       1.00      0.75      0.86         4\n",
            "           1       0.40      1.00      0.57         4\n",
            "           2       1.00      0.75      0.86         4\n",
            "           3       1.00      1.00      1.00         5\n",
            "           4       1.00      1.00      1.00         5\n",
            "           5       1.00      1.00      1.00         4\n",
            "           6       1.00      1.00      1.00         5\n",
            "           7       0.83      1.00      0.91         5\n",
            "           8       1.00      1.00      1.00         5\n",
            "           9       1.00      1.00      1.00         6\n",
            "          10       0.83      0.71      0.77         7\n",
            "          11       1.00      1.00      1.00         7\n",
            "          12       1.00      1.00      1.00         9\n",
            "          13       1.00      1.00      1.00        11\n",
            "          14       1.00      0.91      0.95        11\n",
            "          15       1.00      0.77      0.87        13\n",
            "\n",
            "    accuracy                           0.92       105\n",
            "   macro avg       0.94      0.93      0.92       105\n",
            "weighted avg       0.96      0.92      0.93       105\n",
            "\n"
          ]
        },
        {
          "output_type": "display_data",
          "data": {
            "text/plain": [
              "<Figure size 432x288 with 1 Axes>"
            ],
            "image/png": "[encoded data removed]"
          },
          "metadata": {
            "needs_background": "light"
          }
        }
      ]
    },
    {
      "cell_type": "code",
      "source": [
        "# Lista de petições e numero de tipos de petições existentes\n",
        "listOfKeys = classificacao_peticoes_dicionario.keys()\n",
        "listOfKeys=list(listOfKeys)\n",
        "print(listOfKeys)\n",
        "print(len(listOfKeys))"
      ],
      "metadata": {
        "colab": {
          "base_uri": "https://localhost:8080/"
        },
        "id": "DYYLMeyOkESq",
        "outputId": "dbf412fd-aeb2-4444-db7a-cce23549f1b7"
      },
      "execution_count": null,
      "outputs": [
        {
          "output_type": "stream",
          "name": "stdout",
          "text": [
            "['auxilio_emergencial', 'fornecimento_medicamentos', 'auxilio_doenca', 'aposentadoria_idade_urbana', 'prev_pagas_alem_do_teto', 'aposentadoria_tempo_contribuicao', 'auxilio_reclusao', 'salario_maternidade_urbana', 'acao_cobranca_dpvat', 'revisional_fgts', 'aux_doenca_aposent_invalidez', 'pensao_p_morte', 'aposen_idade_rural', 'aposent_especial', 'salario_maternidade_rural', 'benef_assist_loas']\n",
            "16\n"
          ]
        }
      ]
    },
    {
      "cell_type": "code",
      "source": [
        "classificacao_peticoes_dicionario"
      ],
      "metadata": {
        "colab": {
          "base_uri": "https://localhost:8080/"
        },
        "id": "B-1bOYf0ipQG",
        "outputId": "cbe1d8c7-8c16-4d7b-9a32-242ab7153156"
      },
      "execution_count": null,
      "outputs": [
        {
          "output_type": "execute_result",
          "data": {
            "text/plain": [
              "{'auxilio_emergencial': 0,\n",
              " 'fornecimento_medicamentos': 1,\n",
              " 'auxilio_doenca': 2,\n",
              " 'aposentadoria_idade_urbana': 3,\n",
              " 'prev_pagas_alem_do_teto': 4,\n",
              " 'aposentadoria_tempo_contribuicao': 5,\n",
              " 'auxilio_reclusao': 6,\n",
              " 'salario_maternidade_urbana': 7,\n",
              " 'acao_cobranca_dpvat': 8,\n",
              " 'revisional_fgts': 9,\n",
              " 'aux_doenca_aposent_invalidez': 10,\n",
              " 'pensao_p_morte': 11,\n",
              " 'aposen_idade_rural': 12,\n",
              " 'aposent_especial': 13,\n",
              " 'salario_maternidade_rural': 14,\n",
              " 'benef_assist_loas': 15}"
            ]
          },
          "metadata": {},
          "execution_count": 123
        }
      ]
    },
    {
      "cell_type": "markdown",
      "source": [
        "### **Tentativa 2**: Random Forest\n",
        "\n",
        "Usando o módulo pipeline sklearn foi criado um pipeline para classificar as petições.\n",
        "\n",
        "Foi usado TF-IDF para pré-processar o texto.\n",
        "\n",
        "Foi usado Unigram e Bigrams.\n",
        "\n",
        "Foi usado **Random Forest** como classificador.\n"
      ],
      "metadata": {
        "id": "cSdhtsh5t18d"
      }
    },
    {
      "cell_type": "code",
      "source": [
        "#1. Criar um objeto de pipeline\n",
        "pipeline_random_forest = Pipeline([\n",
        " \n",
        "    ('vectorizer_tfidf',TfidfVectorizer(max_features=650, ngram_range = (2, 3))),     \n",
        "     ('Random Forest', RandomForestClassifier(n_estimators=600, min_samples_leaf=2, \n",
        "                                              random_state=0, n_jobs=-1))         \n",
        "])\n",
        "\n",
        "#2. Ajuste(fit) com X_train e y_train\n",
        "pipeline_random_forest.fit(X_res.flatten(), y_res)\n",
        "\n",
        "\n",
        "#3. Obter previsões para X_test e armazenar em y_pred\n",
        "y_pred_rf = pipeline_random_forest.predict(X_test)\n",
        "\n",
        "# imprimir relatório \n",
        "print(classification_report(y_test, y_pred_rf))\n",
        "\n",
        "# Imprime a matriz de confusão \n",
        "mat = confusion_matrix(y_test, y_pred_rf)\n",
        "\n",
        "sns.heatmap(mat.T,square=True,annot=True,fmt='d',cbar=False,\n",
        "            xticklabels=list(classificacao_peticoes_dicionario.keys()),yticklabels=list(classificacao_peticoes_dicionario.keys()))\n",
        "plt.xlabel('True Label')\n",
        "plt.ylabel(\"Predicted Label\")\n",
        "plt.show()"
      ],
      "metadata": {
        "colab": {
          "base_uri": "https://localhost:8080/",
          "height": 844
        },
        "id": "0FGMAPnxOqVd",
        "outputId": "43e9b63d-534e-4b77-c5a3-1aea040b216e"
      },
      "execution_count": null,
      "outputs": [
        {
          "output_type": "stream",
          "name": "stdout",
          "text": [
            "              precision    recall  f1-score   support\n",
            "\n",
            "           0       1.00      0.75      0.86         4\n",
            "           1       0.40      1.00      0.57         4\n",
            "           2       0.60      0.75      0.67         4\n",
            "           3       1.00      1.00      1.00         5\n",
            "           4       1.00      1.00      1.00         5\n",
            "           5       1.00      1.00      1.00         4\n",
            "           6       1.00      1.00      1.00         5\n",
            "           7       0.83      1.00      0.91         5\n",
            "           8       1.00      1.00      1.00         5\n",
            "           9       1.00      1.00      1.00         6\n",
            "          10       0.75      0.43      0.55         7\n",
            "          11       1.00      1.00      1.00         7\n",
            "          12       1.00      1.00      1.00         9\n",
            "          13       1.00      1.00      1.00        11\n",
            "          14       1.00      0.91      0.95        11\n",
            "          15       1.00      0.77      0.87        13\n",
            "\n",
            "    accuracy                           0.90       105\n",
            "   macro avg       0.91      0.91      0.90       105\n",
            "weighted avg       0.94      0.90      0.91       105\n",
            "\n"
          ]
        },
        {
          "output_type": "display_data",
          "data": {
            "text/plain": [
              "<Figure size 432x288 with 1 Axes>"
            ],
            "image/png": "[encoded data removed]"
          },
          "metadata": {
            "needs_background": "light"
          }
        }
      ]
    },
    {
      "cell_type": "markdown",
      "source": [
        "### **Tentativa 3**: SVM\n",
        "\n",
        "Usando o módulo pipeline sklearn foi criado um pipeline para classificar as petições.\n",
        "\n",
        "Foi usado TF-IDF para pré-processar o texto.\n",
        "\n",
        "Foi usado Bigrams e Trigrams.\n",
        "\n",
        "Foi usado **SVM** como classificador.\n"
      ],
      "metadata": {
        "id": "Oww0RReQVHFd"
      }
    },
    {
      "cell_type": "code",
      "source": [
        "#1. Criar um objeto de pipeline\n",
        "pipeline_svc = Pipeline([\n",
        "     ('vectorizer_tfidf',TfidfVectorizer(max_features=650, min_df=13, ngram_range = (2, 3))),        \n",
        "     ('SVC', SVC(kernel = 'linear', random_state=0))         \n",
        "])\n",
        "\n",
        "#2. Ajuste(fit) com X_train e y_train\n",
        "pipeline_svc.fit(X_res.flatten(), y_res)\n",
        "\n",
        "\n",
        "#3. Obter previsões para X_test e armazenar em y_pred\n",
        "y_pred_svm = pipeline_svc.predict(X_test)\n",
        "\n",
        "# imprimir relatório \n",
        "print(classification_report(y_test, y_pred_svm))\n",
        "\n",
        "# Imprime a matriz de confusão  \n",
        "mat = confusion_matrix(y_test, y_pred_svm)\n",
        "sns.heatmap(mat.T,square=True,annot=True,fmt='d',cbar=False,\n",
        "            xticklabels=list(classificacao_peticoes_dicionario.keys()),yticklabels=list(classificacao_peticoes_dicionario.keys()))\n",
        "plt.xlabel('True Label')\n",
        "plt.ylabel(\"Predicted Label\")\n",
        "plt.show()"
      ],
      "metadata": {
        "id": "k5bW-FvRWBrJ",
        "colab": {
          "base_uri": "https://localhost:8080/",
          "height": 844
        },
        "outputId": "14df71ae-b75b-47c0-9596-34e13e67ea98"
      },
      "execution_count": null,
      "outputs": [
        {
          "output_type": "stream",
          "name": "stdout",
          "text": [
            "              precision    recall  f1-score   support\n",
            "\n",
            "           0       1.00      0.50      0.67         4\n",
            "           1       0.36      1.00      0.53         4\n",
            "           2       0.60      0.75      0.67         4\n",
            "           3       1.00      1.00      1.00         5\n",
            "           4       1.00      1.00      1.00         5\n",
            "           5       1.00      1.00      1.00         4\n",
            "           6       1.00      1.00      1.00         5\n",
            "           7       0.80      0.80      0.80         5\n",
            "           8       1.00      1.00      1.00         5\n",
            "           9       1.00      1.00      1.00         6\n",
            "          10       0.75      0.43      0.55         7\n",
            "          11       1.00      1.00      1.00         7\n",
            "          12       1.00      1.00      1.00         9\n",
            "          13       1.00      1.00      1.00        11\n",
            "          14       0.91      0.91      0.91        11\n",
            "          15       1.00      0.77      0.87        13\n",
            "\n",
            "    accuracy                           0.89       105\n",
            "   macro avg       0.90      0.88      0.87       105\n",
            "weighted avg       0.92      0.89      0.89       105\n",
            "\n"
          ]
        },
        {
          "output_type": "display_data",
          "data": {
            "text/plain": [
              "<Figure size 432x288 with 1 Axes>"
            ],
            "image/png": "[encoded data removed]"
          },
          "metadata": {
            "needs_background": "light"
          }
        }
      ]
    },
    {
      "cell_type": "code",
      "source": [
        "# print(pipeline_svc['vectorizer_tfidf'].vocabulary_)"
      ],
      "metadata": {
        "id": "i9vTTZbc0Qoc"
      },
      "execution_count": null,
      "outputs": []
    },
    {
      "cell_type": "markdown",
      "source": [
        "### **Tentativa 4**: XGBoost\n",
        "\n",
        "Usando o módulo pipeline sklearn foi criado um pipeline para classificar as petições. \n",
        "\n",
        "Foi usado TF-IDF para pré-processar o texto.\n",
        "\n",
        "Foi usado Unigrams e Bigrams.\n",
        "\n",
        "use XGBoost como classificador.\n",
        "\n"
      ],
      "metadata": {
        "id": "kJqiY-0bAEiu"
      }
    },
    {
      "cell_type": "code",
      "source": [
        "#1. Criar um objeto de pipeline\n",
        "pipeline_xgboost = Pipeline([\n",
        "  ('vectorizer_tfidf',TfidfVectorizer(max_features=800, min_df=10, ngram_range = (1, 2))),        \n",
        "     ('xgboost', XGBClassifier(\n",
        "            learning_rate=0.03,\n",
        "            n_estimators=500,\n",
        "            subsample=0.8, \n",
        "            colsample_bynode=0.8,\n",
        "            num_parallel_tree=4\n",
        "     ))                \n",
        "])\n",
        "\n",
        "#2. Ajuste(fit) com X_train e y_train\n",
        "pipeline_xgboost.fit(X_res.flatten(), y_res)\n",
        "\n",
        "\n",
        "#3. Obter previsões para X_test e armazenar em y_pred\n",
        "y_pred_xgboost = pipeline_xgboost.predict(X_test)\n",
        "     \n",
        "\n",
        "# Imprime relatório\n",
        "print(classification_report(y_test, y_pred_xgboost))\n",
        "\n",
        "# Imprime a matriz de confusão\n",
        "mat = confusion_matrix(y_test, y_pred_xgboost)\n",
        "\n",
        "sns.heatmap(mat.T,square=True,annot=True,fmt='d',cbar=False,\n",
        "            xticklabels=list(classificacao_peticoes_dicionario.keys()),yticklabels=list(classificacao_peticoes_dicionario.keys()))\n",
        "plt.xlabel('True Label')\n",
        "plt.ylabel(\"Predicted Label\")\n",
        "plt.show()"
      ],
      "metadata": {
        "colab": {
          "base_uri": "https://localhost:8080/",
          "height": 844
        },
        "id": "78nN3D3jS98K",
        "outputId": "064c3cfb-a008-486a-c1e9-dd0f7118d9cf"
      },
      "execution_count": null,
      "outputs": [
        {
          "output_type": "stream",
          "name": "stdout",
          "text": [
            "              precision    recall  f1-score   support\n",
            "\n",
            "           0       1.00      0.75      0.86         4\n",
            "           1       0.40      1.00      0.57         4\n",
            "           2       0.60      0.75      0.67         4\n",
            "           3       0.83      1.00      0.91         5\n",
            "           4       1.00      1.00      1.00         5\n",
            "           5       1.00      1.00      1.00         4\n",
            "           6       0.83      1.00      0.91         5\n",
            "           7       0.83      1.00      0.91         5\n",
            "           8       1.00      1.00      1.00         5\n",
            "           9       1.00      1.00      1.00         6\n",
            "          10       0.75      0.43      0.55         7\n",
            "          11       1.00      1.00      1.00         7\n",
            "          12       1.00      0.78      0.88         9\n",
            "          13       1.00      1.00      1.00        11\n",
            "          14       1.00      0.91      0.95        11\n",
            "          15       1.00      0.77      0.87        13\n",
            "\n",
            "    accuracy                           0.89       105\n",
            "   macro avg       0.89      0.90      0.88       105\n",
            "weighted avg       0.92      0.89      0.89       105\n",
            "\n"
          ]
        },
        {
          "output_type": "display_data",
          "data": {
            "text/plain": [
              "<Figure size 432x288 with 1 Axes>"
            ],
            "image/png": "[encoded data removed]"
          },
          "metadata": {
            "needs_background": "light"
          }
        }
      ]
    },
    {
      "cell_type": "markdown",
      "source": [
        "### **Tentativa 5**: ExtraTreesClassifier\n",
        "\n",
        "Usando o módulo pipeline sklearn foi criado um pipeline para classificar as petições. \n",
        "\n",
        "Foi usado TF-IDF para pré-processar o texto.\n",
        "\n",
        "Foi usado Unigrams e Bigrams.\n",
        "\n",
        "Foi usado **ExtraTreesClassifier** como classificador.\n",
        "\n"
      ],
      "metadata": {
        "id": "Ffhn8vs-DfHy"
      }
    },
    {
      "cell_type": "code",
      "source": [
        "#1. Criar um objeto de pipeline\n",
        "pipeline_ExtraTreesClassifier = Pipeline([\n",
        "  ('vectorizer_tfidf',TfidfVectorizer(max_features=600, min_df=10, ngram_range = (1, 2))),        \n",
        "     ('ExtraTreesClassifier', ExtraTreesClassifier(\n",
        "            random_state=0,\n",
        "            n_estimators=300, \n",
        "            max_depth=4,\n",
        "            min_samples_leaf=1,\n",
        "     ))                \n",
        "])\n",
        "\n",
        "#2. Ajuste(fit) com X_train e y_train\n",
        "pipeline_ExtraTreesClassifier.fit(X_res.flatten(), y_res)\n",
        "\n",
        "\n",
        "#3. Obter previsões para X_test e armazenar em y_pred\n",
        "y_pred_ExtraTreesClassifier = pipeline_ExtraTreesClassifier.predict(X_test)\n",
        "\n",
        "# Imprime relatório\n",
        "print(classification_report(y_test, y_pred_ExtraTreesClassifier))\n",
        "\n",
        "# Imprime a matriz de confusão\n",
        "mat = confusion_matrix(y_test, y_pred_ExtraTreesClassifier)\n",
        "\n",
        "sns.heatmap(mat.T,square=True,annot=True,fmt='d',cbar=False,\n",
        "            xticklabels=list(classificacao_peticoes_dicionario.keys()),yticklabels=list(classificacao_peticoes_dicionario.keys()))\n",
        "plt.xlabel('True Label')\n",
        "plt.ylabel(\"Predicted Label\")\n",
        "plt.show()"
      ],
      "metadata": {
        "colab": {
          "base_uri": "https://localhost:8080/",
          "height": 844
        },
        "outputId": "cde5ba35-b0ba-44a7-ce3a-9dffce336d64",
        "id": "sHvMxZ26DfH8"
      },
      "execution_count": null,
      "outputs": [
        {
          "output_type": "stream",
          "name": "stdout",
          "text": [
            "              precision    recall  f1-score   support\n",
            "\n",
            "           0       1.00      0.75      0.86         4\n",
            "           1       0.40      1.00      0.57         4\n",
            "           2       0.75      0.75      0.75         4\n",
            "           3       1.00      1.00      1.00         5\n",
            "           4       1.00      1.00      1.00         5\n",
            "           5       1.00      0.75      0.86         4\n",
            "           6       0.83      1.00      0.91         5\n",
            "           7       0.83      1.00      0.91         5\n",
            "           8       1.00      1.00      1.00         5\n",
            "           9       0.86      1.00      0.92         6\n",
            "          10       0.80      0.57      0.67         7\n",
            "          11       1.00      1.00      1.00         7\n",
            "          12       1.00      0.89      0.94         9\n",
            "          13       1.00      1.00      1.00        11\n",
            "          14       1.00      0.91      0.95        11\n",
            "          15       1.00      0.77      0.87        13\n",
            "\n",
            "    accuracy                           0.90       105\n",
            "   macro avg       0.90      0.90      0.89       105\n",
            "weighted avg       0.93      0.90      0.90       105\n",
            "\n"
          ]
        },
        {
          "output_type": "display_data",
          "data": {
            "text/plain": [
              "<Figure size 432x288 with 1 Axes>"
            ],
            "image/png": "[encoded data removed]"
          },
          "metadata": {
            "needs_background": "light"
          }
        }
      ]
    },
    {
      "cell_type": "markdown",
      "source": [
        "## **Utilizando Cross-Validation** <img src=\"https://cdn-icons-png.flaticon.com/512/8003/8003181.png\" width=\"3%\">"
      ],
      "metadata": {
        "id": "glOBImhbZBM8"
      }
    },
    {
      "cell_type": "markdown",
      "source": [
        "Como temos uma base de dados desbalanceadas, vamos utilizar StratifiedKFold ao invés do kfold. "
      ],
      "metadata": {
        "id": "22R_YJjVxSTg"
      }
    },
    {
      "cell_type": "code",
      "source": [
        "# Inicializa uma instância de StratifiedKFold\n",
        "kfold = StratifiedKFold(n_splits=5, shuffle=True, random_state=42)\n",
        "kfold"
      ],
      "metadata": {
        "colab": {
          "base_uri": "https://localhost:8080/"
        },
        "id": "RLRBZkzbZ5Vx",
        "outputId": "7c17678c-b886-4231-8845-81e88f4f7f0f"
      },
      "execution_count": null,
      "outputs": [
        {
          "output_type": "execute_result",
          "data": {
            "text/plain": [
              "StratifiedKFold(n_splits=5, random_state=42, shuffle=True)"
            ]
          },
          "metadata": {},
          "execution_count": 56
        }
      ]
    },
    {
      "cell_type": "code",
      "source": [
        "# Acurácia média para Vizinhos mais próximos\n",
        "\n",
        "scores = cross_val_score(pipeline_vizinhos_proximos, X, y, cv=kfold, scoring='accuracy')\n",
        "print(scores)\n",
        "print(f'Acurácia média: {scores.mean()}')\n",
        "print(f'Desvio padrão: {scores.std()}')"
      ],
      "metadata": {
        "colab": {
          "base_uri": "https://localhost:8080/"
        },
        "id": "-R5fPvnZyy8K",
        "outputId": "ad9e1888-268f-4350-fbc4-b5ca946cecf1"
      },
      "execution_count": null,
      "outputs": [
        {
          "output_type": "stream",
          "name": "stdout",
          "text": [
            "[0.8952381  0.89423077 0.89423077 0.86538462 0.86538462]\n",
            "Acurácia média: 0.8828937728937729\n",
            "Desvio padrão: 0.014300898289209996\n"
          ]
        }
      ]
    },
    {
      "cell_type": "code",
      "source": [
        "# Acurácia média para random forest\n",
        "\n",
        "scores = cross_val_score(pipeline_random_forest, X, y, cv=kfold, scoring='accuracy')\n",
        "print(scores)\n",
        "print(f'Acurácia média: {scores.mean()}')\n",
        "print(f'Desvio padrão: {scores.std()}')"
      ],
      "metadata": {
        "colab": {
          "base_uri": "https://localhost:8080/"
        },
        "id": "Z7E7-uZYkSyN",
        "outputId": "7f251be4-16d9-43cb-d96d-8705cefe40ba"
      },
      "execution_count": null,
      "outputs": [
        {
          "output_type": "stream",
          "name": "stdout",
          "text": [
            "[0.80952381 0.89423077 0.91346154 0.86538462 0.875     ]\n",
            "Acurácia média: 0.8715201465201465\n",
            "Desvio padrão: 0.03512307693071725\n"
          ]
        }
      ]
    },
    {
      "cell_type": "code",
      "source": [
        "# Acurácia média para SVC\n",
        "\n",
        "scores = cross_val_score(pipeline_svc, X, y, cv=kfold, scoring='accuracy')\n",
        "print(scores)\n",
        "print(f'Acurácia média: {scores.mean()}')\n",
        "print(f'Desvio padrão: {scores.std()}')"
      ],
      "metadata": {
        "colab": {
          "base_uri": "https://localhost:8080/"
        },
        "id": "jZ3B-5Vq2Wpr",
        "outputId": "1fb86e0c-095e-4aac-f00a-ab899b0725d6"
      },
      "execution_count": null,
      "outputs": [
        {
          "output_type": "stream",
          "name": "stdout",
          "text": [
            "[0.82857143 0.90384615 0.88461538 0.82692308 0.83653846]\n",
            "Acurácia média: 0.8560989010989012\n",
            "Desvio padrão: 0.031889155626773434\n"
          ]
        }
      ]
    },
    {
      "cell_type": "code",
      "source": [
        "# Acurácia média para XGBoost\n",
        "\n",
        "scores = cross_val_score(pipeline_xgboost, X, y, cv=kfold, scoring='accuracy')\n",
        "print(scores)\n",
        "print(f'Acurácia média: {scores.mean()}')\n",
        "print(f'Desvio padrão: {scores.std()}')"
      ],
      "metadata": {
        "colab": {
          "base_uri": "https://localhost:8080/"
        },
        "id": "urxKfH-J0MWe",
        "outputId": "adfd456e-2501-4730-ea6f-15409cc84dc7"
      },
      "execution_count": null,
      "outputs": [
        {
          "output_type": "stream",
          "name": "stdout",
          "text": [
            "[0.88571429 0.90384615 0.86538462 0.86538462 0.86538462]\n",
            "Acurácia média: 0.8771428571428572\n",
            "Desvio padrão: 0.01550034961099379\n"
          ]
        }
      ]
    },
    {
      "cell_type": "code",
      "source": [
        "# Acurácia média para ExtraTreesClassifier\n",
        "\n",
        "scores = cross_val_score(pipeline_ExtraTreesClassifier, X, y, cv=kfold, scoring='accuracy')\n",
        "print(scores)\n",
        "print(f'Acurácia média: {scores.mean()}')\n",
        "print(f'Desvio padrão: {scores.std()}')"
      ],
      "metadata": {
        "colab": {
          "base_uri": "https://localhost:8080/"
        },
        "id": "imJXCGymgyN-",
        "outputId": "30768e04-5075-4d76-925d-aa40b1c428b0"
      },
      "execution_count": null,
      "outputs": [
        {
          "output_type": "stream",
          "name": "stdout",
          "text": [
            "[0.75238095 0.75       0.76923077 0.73076923 0.78846154]\n",
            "Acurácia média: 0.7581684981684982\n",
            "Desvio padrão: 0.019447272476309774\n"
          ]
        }
      ]
    },
    {
      "cell_type": "code",
      "source": [
        "#@title \n",
        "# df_peticoes_iniciais.loc[17]['nome_documento']"
      ],
      "metadata": {
        "cellView": "form",
        "id": "dvBMa2cOmcbM"
      },
      "execution_count": null,
      "outputs": []
    },
    {
      "cell_type": "markdown",
      "source": [
        "## **Utilizando roc_auc_score** <img src=\"https://cdn-icons-png.flaticon.com/512/2738/2738624.png\" width=\"3%\">"
      ],
      "metadata": {
        "id": "ynp59P8CJeWD"
      }
    },
    {
      "cell_type": "markdown",
      "source": [
        "A *roc_auc_score* é uma métrica de desempenho para problemas de classificação binária que combina a curva ROC (Receiver Operating Characteristic) e o AUC (Area Under the Curve) em uma única medida.\n",
        "\n",
        "A curva ROC é uma representação gráfica da relação entre a taxa de verdadeiros positivos (TPR) e a taxa de falsos positivos (FPR) para diferentes limiares de classificação. O AUC é a área sob a curva ROC.\n",
        "\n",
        "A métrica *roc_auc_score* calcula a área sob a curva ROC, ou seja, é a média do AUC em todas as possíveis divisões de limiares de classificação. Um valor de 1 indica uma classificação perfeita e 0.5 indica uma classificação aleatória.\n",
        "\n",
        "A métrica *roc_auc_score* é uma métrica muito útil para avaliar o desempenho de um modelo de classificação binário, pois leva em conta tanto a sensibilidade (TPR) quanto a especificidade (1-FPR) do modelo. Ele é especialmente útil quando os dados estão desbalanceados, pois não é afetado pelo desequilíbrio de classe."
      ],
      "metadata": {
        "id": "if0cTqCaJouA"
      }
    },
    {
      "cell_type": "code",
      "source": [
        "listOfValues = classificacao_peticoes_dicionario.values()\n",
        "listOfValues=list(listOfValues)\n"
      ],
      "metadata": {
        "id": "XW6GiVrGJhn1"
      },
      "execution_count": null,
      "outputs": []
    },
    {
      "cell_type": "code",
      "source": [
        "# AUC KNN\n",
        "y_true_bin = label_binarize(y_test, classes=listOfValues)\n",
        "y_pred_bin = label_binarize(y_pred_vizinhosproximos, classes=listOfValues)\n",
        "\n",
        "auc_knn = roc_auc_score(y_true_bin, y_pred_bin, average='macro')\n",
        "auc_knn"
      ],
      "metadata": {
        "colab": {
          "base_uri": "https://localhost:8080/"
        },
        "id": "7w1oDIanMdnN",
        "outputId": "7272f60e-cd67-4a44-9232-e975965febad"
      },
      "execution_count": null,
      "outputs": [
        {
          "output_type": "execute_result",
          "data": {
            "text/plain": [
              "0.9629061678243962"
            ]
          },
          "metadata": {},
          "execution_count": 62
        }
      ]
    },
    {
      "cell_type": "code",
      "source": [
        "# AUC Random Forest\n",
        "y_true_bin = label_binarize(y_test, classes=listOfValues)\n",
        "y_pred_bin = label_binarize(y_pred_rf, classes=listOfValues)\n",
        "\n",
        "auc_random_forest = roc_auc_score(y_true_bin, y_pred_bin, average='macro')\n",
        "auc_random_forest"
      ],
      "metadata": {
        "colab": {
          "base_uri": "https://localhost:8080/"
        },
        "id": "MlOICt7mMMfx",
        "outputId": "4fe59f30-24dd-41cb-ebdc-dcab905f2be5"
      },
      "execution_count": null,
      "outputs": [
        {
          "output_type": "execute_result",
          "data": {
            "text/plain": [
              "0.9533587845146367"
            ]
          },
          "metadata": {},
          "execution_count": 63
        }
      ]
    },
    {
      "cell_type": "code",
      "source": [
        "# AUC SVM\n",
        "y_true_bin = label_binarize(y_test, classes=listOfValues)\n",
        "y_pred_bin = label_binarize(y_pred_svm, classes=listOfValues)\n",
        "\n",
        "auc_svm= roc_auc_score(y_true_bin, y_pred_bin, average='macro')\n",
        "auc_svm"
      ],
      "metadata": {
        "colab": {
          "base_uri": "https://localhost:8080/"
        },
        "id": "ssQe24XILz4T",
        "outputId": "da4dd3a6-2c31-4b2b-df3c-3a03b0906c9e"
      },
      "execution_count": null,
      "outputs": [
        {
          "output_type": "execute_result",
          "data": {
            "text/plain": [
              "0.9386544317655321"
            ]
          },
          "metadata": {},
          "execution_count": 64
        }
      ]
    },
    {
      "cell_type": "code",
      "source": [
        "# AUC xgboost\n",
        "y_true_bin = label_binarize(y_test, classes=listOfValues)\n",
        "y_pred_bin = label_binarize(y_pred_xgboost, classes=listOfValues)\n",
        "\n",
        "auc_xgboost = roc_auc_score(y_true_bin, y_pred_bin, average='macro')\n",
        "auc_xgboost"
      ],
      "metadata": {
        "colab": {
          "base_uri": "https://localhost:8080/"
        },
        "id": "9a4MknsALo2S",
        "outputId": "61ea56ff-b3f5-4466-806a-325acccb9424"
      },
      "execution_count": null,
      "outputs": [
        {
          "output_type": "execute_result",
          "data": {
            "text/plain": [
              "0.9457893400701922"
            ]
          },
          "metadata": {},
          "execution_count": 120
        }
      ]
    },
    {
      "cell_type": "code",
      "source": [
        "# AUC ExtraTreesClassifier\n",
        "y_true_bin = label_binarize(y_test, classes=listOfValues)\n",
        "y_pred_bin = label_binarize(y_pred_ExtraTreesClassifier, classes=listOfValues)\n",
        "\n",
        "auc_ExtraTreesClassifier = roc_auc_score(y_true_bin, y_pred_bin, average='macro')\n",
        "auc_ExtraTreesClassifier"
      ],
      "metadata": {
        "colab": {
          "base_uri": "https://localhost:8080/"
        },
        "id": "BkrMQmGVLWjf",
        "outputId": "df233ded-af1a-4852-8554-43cbc9bebe05"
      },
      "execution_count": null,
      "outputs": [
        {
          "output_type": "execute_result",
          "data": {
            "text/plain": [
              "0.9462195973816376"
            ]
          },
          "metadata": {},
          "execution_count": 65
        }
      ]
    },
    {
      "cell_type": "markdown",
      "source": [
        "## **Fazendo Dump** <img src=\"https://cdn-icons-png.flaticon.com/512/2824/2824710.png\" width=\"3%\">"
      ],
      "metadata": {
        "id": "DzVENFoeh1Cb"
      }
    },
    {
      "cell_type": "code",
      "source": [
        "#@title\n",
        "# # Fazer upload de petição\n",
        "# from google.colab import files\n",
        "# import io, pdftotext\n",
        "# upload = files.upload()\n",
        "# filename = list(upload.keys())[0]\n",
        "# print(filename)\n",
        "\n",
        "# with open(filename, \"rb\") as f:\n",
        "#     pdf = pdftotext.PDF(f)\n",
        "\n",
        "# texto_documento = \"\\n\\n\".join(pdf)\n",
        "# texto_documento = texto_documento.lower()\n",
        "# texto_documento = clean_text(texto_documento)\n",
        "# texto_documento = remove_stopwords(texto_documento)\n",
        "# #print(texto_documento)\n",
        "\n",
        "# prediction_teste=predict_category(texto_documento)\n",
        "# #print(prediction_teste)\n",
        "# print('Esta petição é sugerida como...')\n",
        "# if prediction_teste == [0]:\n",
        "#   print('Aposentadoria por Tempo de Contribuição')\n",
        "# elif prediction_teste == [1]:\n",
        "#   print('Aposentadoria Urbana')\n",
        "# elif prediction_teste == [2]:\n",
        "#   print('Salario Maternidade Rural')\n",
        "# elif prediction_teste == [3]:\n",
        "#   print('Revisional Fgts')\n",
        "# elif prediction_teste == [4]:\n",
        "#   print('Pensao po Morte')\n",
        "# elif prediction_teste == [5]:\n",
        "#   print('Aposentadoria Idade Rural')\n",
        "# elif prediction_teste == [6]:\n",
        "#   print('Aposentadoria Especial')    \n",
        "# else:\n",
        "#   print('Beneficio Assistencial Loas')   \n",
        "\n",
        "     \n",
        "\n",
        "# def predict_category(s ,model=pipeline_svc):\n",
        "#     s=remove_header_footer(s)\n",
        "#     s=clean_text(s)\n",
        "#     s=remove_stopwords(s)\n",
        "#     s=stemming(s)\n",
        "#     pred = model.predict([s])\n",
        "#     return pred"
      ],
      "metadata": {
        "id": "n2sbmcWGiZTN",
        "cellView": "form"
      },
      "execution_count": null,
      "outputs": []
    },
    {
      "cell_type": "code",
      "source": [
        "# Persistindo o modelo de ML para o disco\n",
        "import joblib\n",
        "\n",
        "joblib.dump(pipeline_vizinhos_proximos, '/content/drive/MyDrive/trf5.peticoes/knn_13_02_2023.pkl')"
      ],
      "metadata": {
        "id": "JuM0DjuigYEc",
        "colab": {
          "base_uri": "https://localhost:8080/"
        },
        "outputId": "abcf2233-d73d-4ca1-e750-0dc2f40e3a6d"
      },
      "execution_count": null,
      "outputs": [
        {
          "output_type": "execute_result",
          "data": {
            "text/plain": [
              "['/content/drive/MyDrive/trf5.peticoes/knn_13_02_2023.pkl']"
            ]
          },
          "metadata": {},
          "execution_count": 67
        }
      ]
    },
    {
      "cell_type": "code",
      "source": [],
      "metadata": {
        "id": "GLzgYwRDibHL"
      },
      "execution_count": null,
      "outputs": []
    },
    {
      "cell_type": "markdown",
      "source": [
        "Essa ultima célula é exportando nosso modelo escolhido em um arquivo com extensão .pkl, já pronto para aplicação em produção. Foi decidido exportar o modelo de KNN devido a seus bons desempenhos nas diferentes métricas visualizadas e boa estabilidade na validação cruzada. O trabalho de melhorar cada vez mais continua ... \n",
        "\n",
        "<p align=center>\n",
        "<img src=\"https://cdn-icons-png.flaticon.com/512/9375/9375341.png\" width=\"30%\"></p>\n"
      ],
      "metadata": {
        "id": "u97Js4Jm6rT7"
      }
    }
  ]
}